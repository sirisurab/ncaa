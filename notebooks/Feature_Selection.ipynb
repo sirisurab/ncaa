{
 "cells": [
  {
   "cell_type": "code",
   "execution_count": 1,
   "metadata": {},
   "outputs": [],
   "source": [
    "import pandas as pd\n",
    "import numpy as np\n",
    "import matplotlib.pyplot as plt\n",
    "import seaborn as sns\n",
    "import warnings\n",
    "warnings.filterwarnings('ignore')\n",
    "import time\n",
    "\n",
    "import sys\n",
    "sys.path.append('..')\n",
    "from src.utils.plotting import plot_roc\n",
    "\n",
    "from joblib import dump, load\n",
    "import pickle\n",
    "import os\n",
    "import shutil\n",
    "from tqdm import tqdm\n",
    "\n",
    "import featuretools as ft\n",
    "from featuretools import selection\n",
    "\n",
    "import xgboost as xgb\n",
    "import lightgbm as lgbm\n",
    "\n",
    "from sklearn.metrics import accuracy_score, precision_score, recall_score, classification_report, roc_curve, auc\n",
    "\n",
    "from sklearn.linear_model import LogisticRegression\n",
    "from sklearn.model_selection import RandomizedSearchCV\n",
    "\n",
    "from sklearn.ensemble import RandomForestRegressor\n",
    "\n",
    "pd.options.mode.use_inf_as_na = True\n",
    "\n",
    "data_folder = '/media/siri/78C6823EC681FD1E/minio/data/kaggle/ncaa/'\n",
    "\n",
    "total_chunks = 500"
   ]
  },
  {
   "cell_type": "markdown",
   "metadata": {},
   "source": [
    "### Read Feature Matrices and combine into one"
   ]
  },
  {
   "cell_type": "code",
   "execution_count": 2,
   "metadata": {},
   "outputs": [
    {
     "name": "stderr",
     "output_type": "stream",
     "text": [
      "100%|██████████| 500/500 [00:37<00:00, 13.29it/s]\n"
     ]
    },
    {
     "name": "stdout",
     "output_type": "stream",
     "text": [
      "<class 'pandas.core.frame.DataFrame'>\n",
      "Int64Index: 332852 entries, 0 to 332851\n",
      "Columns: 510 entries, time to WTeams.TIME_SINCE_LAST(WTeam_events.Date)\n",
      "dtypes: datetime64[ns](1), float64(506), int64(1), object(2)\n",
      "memory usage: 1.3+ GB\n"
     ]
    }
   ],
   "source": [
    "fm_lst = []\n",
    "#for i in range(1, 6):\n",
    "for i in tqdm(range(0, total_chunks)):\n",
    "    fmi = pd.read_parquet(data_folder+'p{}_fm'.format(i))\n",
    "    fm_lst.append(fmi)\n",
    "fm = pd.concat(fm_lst, axis=0, copy=False)\n",
    "#fm = selection.remove_low_information_features(fm)\n",
    "#del fm_lst\n",
    "fm.info()"
   ]
  },
  {
   "cell_type": "code",
   "execution_count": 3,
   "metadata": {},
   "outputs": [
    {
     "data": {
      "text/html": [
       "<div>\n",
       "<style scoped>\n",
       "    .dataframe tbody tr th:only-of-type {\n",
       "        vertical-align: middle;\n",
       "    }\n",
       "\n",
       "    .dataframe tbody tr th {\n",
       "        vertical-align: top;\n",
       "    }\n",
       "\n",
       "    .dataframe thead th {\n",
       "        text-align: right;\n",
       "    }\n",
       "</style>\n",
       "<table border=\"1\" class=\"dataframe\">\n",
       "  <thead>\n",
       "    <tr style=\"text-align: right;\">\n",
       "      <th></th>\n",
       "      <th>time</th>\n",
       "      <th>WLoc</th>\n",
       "      <th>Season</th>\n",
       "      <th>WTeamID</th>\n",
       "      <th>LTeamID</th>\n",
       "      <th>TourneyName</th>\n",
       "      <th>time_since_previous_by_LTeamID</th>\n",
       "      <th>time_since_previous_by_WTeamID</th>\n",
       "      <th>time_since_previous_by_Season</th>\n",
       "      <th>WTeams.FirstD1Season</th>\n",
       "      <th>...</th>\n",
       "      <th>WTeams.STD(WTeam_events.LPoints)</th>\n",
       "      <th>WTeams.STD(WTeam_events.ElapsedSeconds)</th>\n",
       "      <th>WTeams.SKEW(WTeam_events.WPoints)</th>\n",
       "      <th>WTeams.SKEW(WTeam_events.LPoints)</th>\n",
       "      <th>WTeams.SKEW(WTeam_events.ElapsedSeconds)</th>\n",
       "      <th>WTeams.MEDIAN(WTeam_events.WPoints)</th>\n",
       "      <th>WTeams.MEDIAN(WTeam_events.LPoints)</th>\n",
       "      <th>WTeams.MEDIAN(WTeam_events.ElapsedSeconds)</th>\n",
       "      <th>WTeams.AVG_TIME_BETWEEN(WTeam_events.Date)</th>\n",
       "      <th>WTeams.TIME_SINCE_LAST(WTeam_events.Date)</th>\n",
       "    </tr>\n",
       "    <tr>\n",
       "      <th>Game_WTeamID</th>\n",
       "      <th></th>\n",
       "      <th></th>\n",
       "      <th></th>\n",
       "      <th></th>\n",
       "      <th></th>\n",
       "      <th></th>\n",
       "      <th></th>\n",
       "      <th></th>\n",
       "      <th></th>\n",
       "      <th></th>\n",
       "      <th></th>\n",
       "      <th></th>\n",
       "      <th></th>\n",
       "      <th></th>\n",
       "      <th></th>\n",
       "      <th></th>\n",
       "      <th></th>\n",
       "      <th></th>\n",
       "      <th></th>\n",
       "      <th></th>\n",
       "      <th></th>\n",
       "    </tr>\n",
       "  </thead>\n",
       "  <tbody>\n",
       "    <tr>\n",
       "      <th>0</th>\n",
       "      <td>1984-11-17 12:00:00</td>\n",
       "      <td>N</td>\n",
       "      <td>1985.0</td>\n",
       "      <td>1228.0</td>\n",
       "      <td>1328.0</td>\n",
       "      <td>REG</td>\n",
       "      <td>NaN</td>\n",
       "      <td>NaN</td>\n",
       "      <td>NaN</td>\n",
       "      <td>1985.0</td>\n",
       "      <td>...</td>\n",
       "      <td>NaN</td>\n",
       "      <td>NaN</td>\n",
       "      <td>NaN</td>\n",
       "      <td>NaN</td>\n",
       "      <td>NaN</td>\n",
       "      <td>NaN</td>\n",
       "      <td>NaN</td>\n",
       "      <td>NaN</td>\n",
       "      <td>NaN</td>\n",
       "      <td>NaN</td>\n",
       "    </tr>\n",
       "    <tr>\n",
       "      <th>1</th>\n",
       "      <td>1984-11-22 12:00:00</td>\n",
       "      <td>H</td>\n",
       "      <td>1985.0</td>\n",
       "      <td>1106.0</td>\n",
       "      <td>1354.0</td>\n",
       "      <td>REG</td>\n",
       "      <td>NaN</td>\n",
       "      <td>NaN</td>\n",
       "      <td>NaN</td>\n",
       "      <td>1985.0</td>\n",
       "      <td>...</td>\n",
       "      <td>NaN</td>\n",
       "      <td>NaN</td>\n",
       "      <td>NaN</td>\n",
       "      <td>NaN</td>\n",
       "      <td>NaN</td>\n",
       "      <td>NaN</td>\n",
       "      <td>NaN</td>\n",
       "      <td>NaN</td>\n",
       "      <td>NaN</td>\n",
       "      <td>NaN</td>\n",
       "    </tr>\n",
       "    <tr>\n",
       "      <th>2</th>\n",
       "      <td>1984-11-22 12:00:00</td>\n",
       "      <td>H</td>\n",
       "      <td>1985.0</td>\n",
       "      <td>1112.0</td>\n",
       "      <td>1223.0</td>\n",
       "      <td>REG</td>\n",
       "      <td>NaN</td>\n",
       "      <td>NaN</td>\n",
       "      <td>0.0</td>\n",
       "      <td>1985.0</td>\n",
       "      <td>...</td>\n",
       "      <td>NaN</td>\n",
       "      <td>NaN</td>\n",
       "      <td>NaN</td>\n",
       "      <td>NaN</td>\n",
       "      <td>NaN</td>\n",
       "      <td>NaN</td>\n",
       "      <td>NaN</td>\n",
       "      <td>NaN</td>\n",
       "      <td>NaN</td>\n",
       "      <td>NaN</td>\n",
       "    </tr>\n",
       "    <tr>\n",
       "      <th>3</th>\n",
       "      <td>1984-11-22 12:00:00</td>\n",
       "      <td>H</td>\n",
       "      <td>1985.0</td>\n",
       "      <td>1165.0</td>\n",
       "      <td>1432.0</td>\n",
       "      <td>REG</td>\n",
       "      <td>NaN</td>\n",
       "      <td>NaN</td>\n",
       "      <td>0.0</td>\n",
       "      <td>1985.0</td>\n",
       "      <td>...</td>\n",
       "      <td>NaN</td>\n",
       "      <td>NaN</td>\n",
       "      <td>NaN</td>\n",
       "      <td>NaN</td>\n",
       "      <td>NaN</td>\n",
       "      <td>NaN</td>\n",
       "      <td>NaN</td>\n",
       "      <td>NaN</td>\n",
       "      <td>NaN</td>\n",
       "      <td>NaN</td>\n",
       "    </tr>\n",
       "    <tr>\n",
       "      <th>4</th>\n",
       "      <td>1984-11-22 12:00:00</td>\n",
       "      <td>H</td>\n",
       "      <td>1985.0</td>\n",
       "      <td>1192.0</td>\n",
       "      <td>1447.0</td>\n",
       "      <td>REG</td>\n",
       "      <td>NaN</td>\n",
       "      <td>NaN</td>\n",
       "      <td>0.0</td>\n",
       "      <td>1985.0</td>\n",
       "      <td>...</td>\n",
       "      <td>NaN</td>\n",
       "      <td>NaN</td>\n",
       "      <td>NaN</td>\n",
       "      <td>NaN</td>\n",
       "      <td>NaN</td>\n",
       "      <td>NaN</td>\n",
       "      <td>NaN</td>\n",
       "      <td>NaN</td>\n",
       "      <td>NaN</td>\n",
       "      <td>NaN</td>\n",
       "    </tr>\n",
       "  </tbody>\n",
       "</table>\n",
       "<p>5 rows × 162 columns</p>\n",
       "</div>"
      ],
      "text/plain": [
       "                            time WLoc  Season  WTeamID  LTeamID TourneyName  \\\n",
       "Game_WTeamID                                                                  \n",
       "0            1984-11-17 12:00:00    N  1985.0   1228.0   1328.0         REG   \n",
       "1            1984-11-22 12:00:00    H  1985.0   1106.0   1354.0         REG   \n",
       "2            1984-11-22 12:00:00    H  1985.0   1112.0   1223.0         REG   \n",
       "3            1984-11-22 12:00:00    H  1985.0   1165.0   1432.0         REG   \n",
       "4            1984-11-22 12:00:00    H  1985.0   1192.0   1447.0         REG   \n",
       "\n",
       "              time_since_previous_by_LTeamID  time_since_previous_by_WTeamID  \\\n",
       "Game_WTeamID                                                                   \n",
       "0                                        NaN                             NaN   \n",
       "1                                        NaN                             NaN   \n",
       "2                                        NaN                             NaN   \n",
       "3                                        NaN                             NaN   \n",
       "4                                        NaN                             NaN   \n",
       "\n",
       "              time_since_previous_by_Season  WTeams.FirstD1Season  ...  \\\n",
       "Game_WTeamID                                                       ...   \n",
       "0                                       NaN                1985.0  ...   \n",
       "1                                       NaN                1985.0  ...   \n",
       "2                                       0.0                1985.0  ...   \n",
       "3                                       0.0                1985.0  ...   \n",
       "4                                       0.0                1985.0  ...   \n",
       "\n",
       "              WTeams.STD(WTeam_events.LPoints)  \\\n",
       "Game_WTeamID                                     \n",
       "0                                          NaN   \n",
       "1                                          NaN   \n",
       "2                                          NaN   \n",
       "3                                          NaN   \n",
       "4                                          NaN   \n",
       "\n",
       "              WTeams.STD(WTeam_events.ElapsedSeconds)  \\\n",
       "Game_WTeamID                                            \n",
       "0                                                 NaN   \n",
       "1                                                 NaN   \n",
       "2                                                 NaN   \n",
       "3                                                 NaN   \n",
       "4                                                 NaN   \n",
       "\n",
       "              WTeams.SKEW(WTeam_events.WPoints)  \\\n",
       "Game_WTeamID                                      \n",
       "0                                           NaN   \n",
       "1                                           NaN   \n",
       "2                                           NaN   \n",
       "3                                           NaN   \n",
       "4                                           NaN   \n",
       "\n",
       "              WTeams.SKEW(WTeam_events.LPoints)  \\\n",
       "Game_WTeamID                                      \n",
       "0                                           NaN   \n",
       "1                                           NaN   \n",
       "2                                           NaN   \n",
       "3                                           NaN   \n",
       "4                                           NaN   \n",
       "\n",
       "              WTeams.SKEW(WTeam_events.ElapsedSeconds)  \\\n",
       "Game_WTeamID                                             \n",
       "0                                                  NaN   \n",
       "1                                                  NaN   \n",
       "2                                                  NaN   \n",
       "3                                                  NaN   \n",
       "4                                                  NaN   \n",
       "\n",
       "              WTeams.MEDIAN(WTeam_events.WPoints)  \\\n",
       "Game_WTeamID                                        \n",
       "0                                             NaN   \n",
       "1                                             NaN   \n",
       "2                                             NaN   \n",
       "3                                             NaN   \n",
       "4                                             NaN   \n",
       "\n",
       "              WTeams.MEDIAN(WTeam_events.LPoints)  \\\n",
       "Game_WTeamID                                        \n",
       "0                                             NaN   \n",
       "1                                             NaN   \n",
       "2                                             NaN   \n",
       "3                                             NaN   \n",
       "4                                             NaN   \n",
       "\n",
       "              WTeams.MEDIAN(WTeam_events.ElapsedSeconds)  \\\n",
       "Game_WTeamID                                               \n",
       "0                                                    NaN   \n",
       "1                                                    NaN   \n",
       "2                                                    NaN   \n",
       "3                                                    NaN   \n",
       "4                                                    NaN   \n",
       "\n",
       "              WTeams.AVG_TIME_BETWEEN(WTeam_events.Date)  \\\n",
       "Game_WTeamID                                               \n",
       "0                                                    NaN   \n",
       "1                                                    NaN   \n",
       "2                                                    NaN   \n",
       "3                                                    NaN   \n",
       "4                                                    NaN   \n",
       "\n",
       "              WTeams.TIME_SINCE_LAST(WTeam_events.Date)  \n",
       "Game_WTeamID                                             \n",
       "0                                                   NaN  \n",
       "1                                                   NaN  \n",
       "2                                                   NaN  \n",
       "3                                                   NaN  \n",
       "4                                                   NaN  \n",
       "\n",
       "[5 rows x 162 columns]"
      ]
     },
     "execution_count": 3,
     "metadata": {},
     "output_type": "execute_result"
    }
   ],
   "source": [
    "fm = selection.remove_low_information_features(fm)\n",
    "fm.head()"
   ]
  },
  {
   "cell_type": "code",
   "execution_count": 4,
   "metadata": {},
   "outputs": [
    {
     "data": {
      "text/plain": [
       "Index(['time', 'WLoc', 'Season', 'WTeamID', 'LTeamID', 'TourneyName',\n",
       "       'time_since_previous_by_LTeamID', 'time_since_previous_by_WTeamID',\n",
       "       'time_since_previous_by_Season', 'WTeams.FirstD1Season',\n",
       "       ...\n",
       "       'WTeams.STD(WTeam_events.LPoints)',\n",
       "       'WTeams.STD(WTeam_events.ElapsedSeconds)',\n",
       "       'WTeams.SKEW(WTeam_events.WPoints)',\n",
       "       'WTeams.SKEW(WTeam_events.LPoints)',\n",
       "       'WTeams.SKEW(WTeam_events.ElapsedSeconds)',\n",
       "       'WTeams.MEDIAN(WTeam_events.WPoints)',\n",
       "       'WTeams.MEDIAN(WTeam_events.LPoints)',\n",
       "       'WTeams.MEDIAN(WTeam_events.ElapsedSeconds)',\n",
       "       'WTeams.AVG_TIME_BETWEEN(WTeam_events.Date)',\n",
       "       'WTeams.TIME_SINCE_LAST(WTeam_events.Date)'],\n",
       "      dtype='object', length=162)"
      ]
     },
     "execution_count": 4,
     "metadata": {},
     "output_type": "execute_result"
    }
   ],
   "source": [
    "fm.columns"
   ]
  },
  {
   "cell_type": "code",
   "execution_count": 5,
   "metadata": {},
   "outputs": [
    {
     "name": "stdout",
     "output_type": "stream",
     "text": [
      "<class 'pandas.core.frame.DataFrame'>\n",
      "Int64Index: 332852 entries, 0 to 332851\n",
      "Columns: 159 entries, WLoc to WTeams.TIME_SINCE_LAST(WTeam_events.Date)\n",
      "dtypes: float64(156), int64(1), object(2)\n",
      "memory usage: 406.3+ MB\n"
     ]
    }
   ],
   "source": [
    "fm = fm.drop(columns=['WTeamID', 'LTeamID','time'])\n",
    "fm.info()"
   ]
  },
  {
   "cell_type": "code",
   "execution_count": 6,
   "metadata": {},
   "outputs": [
    {
     "data": {
      "text/plain": [
       "True"
      ]
     },
     "execution_count": 6,
     "metadata": {},
     "output_type": "execute_result"
    }
   ],
   "source": [
    "fm.index.is_unique"
   ]
  },
  {
   "cell_type": "markdown",
   "metadata": {},
   "source": [
    "#### Convert TourneyName to categorical and add outcome column"
   ]
  },
  {
   "cell_type": "code",
   "execution_count": 7,
   "metadata": {},
   "outputs": [],
   "source": [
    "def convert_to_categorical(series):\n",
    "    values = series.unique()\n",
    "    cat_map = {cat_val:cat_num  for cat_num, cat_val in enumerate(values)}    \n",
    "    return series.map(cat_map), cat_map "
   ]
  },
  {
   "cell_type": "code",
   "execution_count": 8,
   "metadata": {},
   "outputs": [],
   "source": [
    "#fm['Outcome'] = 0\n",
    "#fm = fm.apply(set_game_outcome, axis=1)\n",
    "fm['TourneyName'], tourney_cat_map = convert_to_categorical(fm['TourneyName'])\n",
    "\n",
    "fm['WLoc'], wloc_cat_map = convert_to_categorical(fm['WLoc'])"
   ]
  },
  {
   "cell_type": "code",
   "execution_count": 9,
   "metadata": {},
   "outputs": [
    {
     "data": {
      "text/html": [
       "<div>\n",
       "<style scoped>\n",
       "    .dataframe tbody tr th:only-of-type {\n",
       "        vertical-align: middle;\n",
       "    }\n",
       "\n",
       "    .dataframe tbody tr th {\n",
       "        vertical-align: top;\n",
       "    }\n",
       "\n",
       "    .dataframe thead th {\n",
       "        text-align: right;\n",
       "    }\n",
       "</style>\n",
       "<table border=\"1\" class=\"dataframe\">\n",
       "  <thead>\n",
       "    <tr style=\"text-align: right;\">\n",
       "      <th></th>\n",
       "      <th>WLoc</th>\n",
       "      <th>Season</th>\n",
       "      <th>TourneyName</th>\n",
       "      <th>time_since_previous_by_LTeamID</th>\n",
       "      <th>time_since_previous_by_WTeamID</th>\n",
       "      <th>time_since_previous_by_Season</th>\n",
       "      <th>WTeams.FirstD1Season</th>\n",
       "      <th>WTeams.LastD1Season</th>\n",
       "      <th>ABSOLUTE(COUNT(WTeam_events))</th>\n",
       "      <th>DIFF(COUNT(WTeam_events) by LTeamID)</th>\n",
       "      <th>...</th>\n",
       "      <th>WTeams.STD(WTeam_events.ElapsedSeconds)</th>\n",
       "      <th>WTeams.SKEW(WTeam_events.WPoints)</th>\n",
       "      <th>WTeams.SKEW(WTeam_events.LPoints)</th>\n",
       "      <th>WTeams.SKEW(WTeam_events.ElapsedSeconds)</th>\n",
       "      <th>WTeams.MEDIAN(WTeam_events.WPoints)</th>\n",
       "      <th>WTeams.MEDIAN(WTeam_events.LPoints)</th>\n",
       "      <th>WTeams.MEDIAN(WTeam_events.ElapsedSeconds)</th>\n",
       "      <th>WTeams.AVG_TIME_BETWEEN(WTeam_events.Date)</th>\n",
       "      <th>WTeams.TIME_SINCE_LAST(WTeam_events.Date)</th>\n",
       "      <th>Outcome</th>\n",
       "    </tr>\n",
       "    <tr>\n",
       "      <th>Game_WTeamID</th>\n",
       "      <th></th>\n",
       "      <th></th>\n",
       "      <th></th>\n",
       "      <th></th>\n",
       "      <th></th>\n",
       "      <th></th>\n",
       "      <th></th>\n",
       "      <th></th>\n",
       "      <th></th>\n",
       "      <th></th>\n",
       "      <th></th>\n",
       "      <th></th>\n",
       "      <th></th>\n",
       "      <th></th>\n",
       "      <th></th>\n",
       "      <th></th>\n",
       "      <th></th>\n",
       "      <th></th>\n",
       "      <th></th>\n",
       "      <th></th>\n",
       "      <th></th>\n",
       "    </tr>\n",
       "  </thead>\n",
       "  <tbody>\n",
       "    <tr>\n",
       "      <th>0</th>\n",
       "      <td>0</td>\n",
       "      <td>1985.0</td>\n",
       "      <td>0</td>\n",
       "      <td>NaN</td>\n",
       "      <td>NaN</td>\n",
       "      <td>NaN</td>\n",
       "      <td>1985.0</td>\n",
       "      <td>2019.0</td>\n",
       "      <td>0.0</td>\n",
       "      <td>NaN</td>\n",
       "      <td>...</td>\n",
       "      <td>NaN</td>\n",
       "      <td>NaN</td>\n",
       "      <td>NaN</td>\n",
       "      <td>NaN</td>\n",
       "      <td>NaN</td>\n",
       "      <td>NaN</td>\n",
       "      <td>NaN</td>\n",
       "      <td>NaN</td>\n",
       "      <td>NaN</td>\n",
       "      <td>1.0</td>\n",
       "    </tr>\n",
       "    <tr>\n",
       "      <th>1</th>\n",
       "      <td>1</td>\n",
       "      <td>1985.0</td>\n",
       "      <td>0</td>\n",
       "      <td>NaN</td>\n",
       "      <td>NaN</td>\n",
       "      <td>NaN</td>\n",
       "      <td>1985.0</td>\n",
       "      <td>2019.0</td>\n",
       "      <td>0.0</td>\n",
       "      <td>NaN</td>\n",
       "      <td>...</td>\n",
       "      <td>NaN</td>\n",
       "      <td>NaN</td>\n",
       "      <td>NaN</td>\n",
       "      <td>NaN</td>\n",
       "      <td>NaN</td>\n",
       "      <td>NaN</td>\n",
       "      <td>NaN</td>\n",
       "      <td>NaN</td>\n",
       "      <td>NaN</td>\n",
       "      <td>1.0</td>\n",
       "    </tr>\n",
       "    <tr>\n",
       "      <th>2</th>\n",
       "      <td>1</td>\n",
       "      <td>1985.0</td>\n",
       "      <td>0</td>\n",
       "      <td>NaN</td>\n",
       "      <td>NaN</td>\n",
       "      <td>0.0</td>\n",
       "      <td>1985.0</td>\n",
       "      <td>2019.0</td>\n",
       "      <td>0.0</td>\n",
       "      <td>NaN</td>\n",
       "      <td>...</td>\n",
       "      <td>NaN</td>\n",
       "      <td>NaN</td>\n",
       "      <td>NaN</td>\n",
       "      <td>NaN</td>\n",
       "      <td>NaN</td>\n",
       "      <td>NaN</td>\n",
       "      <td>NaN</td>\n",
       "      <td>NaN</td>\n",
       "      <td>NaN</td>\n",
       "      <td>1.0</td>\n",
       "    </tr>\n",
       "    <tr>\n",
       "      <th>3</th>\n",
       "      <td>1</td>\n",
       "      <td>1985.0</td>\n",
       "      <td>0</td>\n",
       "      <td>NaN</td>\n",
       "      <td>NaN</td>\n",
       "      <td>0.0</td>\n",
       "      <td>1985.0</td>\n",
       "      <td>2019.0</td>\n",
       "      <td>0.0</td>\n",
       "      <td>NaN</td>\n",
       "      <td>...</td>\n",
       "      <td>NaN</td>\n",
       "      <td>NaN</td>\n",
       "      <td>NaN</td>\n",
       "      <td>NaN</td>\n",
       "      <td>NaN</td>\n",
       "      <td>NaN</td>\n",
       "      <td>NaN</td>\n",
       "      <td>NaN</td>\n",
       "      <td>NaN</td>\n",
       "      <td>1.0</td>\n",
       "    </tr>\n",
       "    <tr>\n",
       "      <th>4</th>\n",
       "      <td>1</td>\n",
       "      <td>1985.0</td>\n",
       "      <td>0</td>\n",
       "      <td>NaN</td>\n",
       "      <td>NaN</td>\n",
       "      <td>0.0</td>\n",
       "      <td>1985.0</td>\n",
       "      <td>2019.0</td>\n",
       "      <td>0.0</td>\n",
       "      <td>NaN</td>\n",
       "      <td>...</td>\n",
       "      <td>NaN</td>\n",
       "      <td>NaN</td>\n",
       "      <td>NaN</td>\n",
       "      <td>NaN</td>\n",
       "      <td>NaN</td>\n",
       "      <td>NaN</td>\n",
       "      <td>NaN</td>\n",
       "      <td>NaN</td>\n",
       "      <td>NaN</td>\n",
       "      <td>1.0</td>\n",
       "    </tr>\n",
       "  </tbody>\n",
       "</table>\n",
       "<p>5 rows × 160 columns</p>\n",
       "</div>"
      ],
      "text/plain": [
       "              WLoc  Season  TourneyName  time_since_previous_by_LTeamID  \\\n",
       "Game_WTeamID                                                              \n",
       "0                0  1985.0            0                             NaN   \n",
       "1                1  1985.0            0                             NaN   \n",
       "2                1  1985.0            0                             NaN   \n",
       "3                1  1985.0            0                             NaN   \n",
       "4                1  1985.0            0                             NaN   \n",
       "\n",
       "              time_since_previous_by_WTeamID  time_since_previous_by_Season  \\\n",
       "Game_WTeamID                                                                  \n",
       "0                                        NaN                            NaN   \n",
       "1                                        NaN                            NaN   \n",
       "2                                        NaN                            0.0   \n",
       "3                                        NaN                            0.0   \n",
       "4                                        NaN                            0.0   \n",
       "\n",
       "              WTeams.FirstD1Season  WTeams.LastD1Season  \\\n",
       "Game_WTeamID                                              \n",
       "0                           1985.0               2019.0   \n",
       "1                           1985.0               2019.0   \n",
       "2                           1985.0               2019.0   \n",
       "3                           1985.0               2019.0   \n",
       "4                           1985.0               2019.0   \n",
       "\n",
       "              ABSOLUTE(COUNT(WTeam_events))  \\\n",
       "Game_WTeamID                                  \n",
       "0                                       0.0   \n",
       "1                                       0.0   \n",
       "2                                       0.0   \n",
       "3                                       0.0   \n",
       "4                                       0.0   \n",
       "\n",
       "              DIFF(COUNT(WTeam_events) by LTeamID)  ...  \\\n",
       "Game_WTeamID                                        ...   \n",
       "0                                              NaN  ...   \n",
       "1                                              NaN  ...   \n",
       "2                                              NaN  ...   \n",
       "3                                              NaN  ...   \n",
       "4                                              NaN  ...   \n",
       "\n",
       "              WTeams.STD(WTeam_events.ElapsedSeconds)  \\\n",
       "Game_WTeamID                                            \n",
       "0                                                 NaN   \n",
       "1                                                 NaN   \n",
       "2                                                 NaN   \n",
       "3                                                 NaN   \n",
       "4                                                 NaN   \n",
       "\n",
       "              WTeams.SKEW(WTeam_events.WPoints)  \\\n",
       "Game_WTeamID                                      \n",
       "0                                           NaN   \n",
       "1                                           NaN   \n",
       "2                                           NaN   \n",
       "3                                           NaN   \n",
       "4                                           NaN   \n",
       "\n",
       "              WTeams.SKEW(WTeam_events.LPoints)  \\\n",
       "Game_WTeamID                                      \n",
       "0                                           NaN   \n",
       "1                                           NaN   \n",
       "2                                           NaN   \n",
       "3                                           NaN   \n",
       "4                                           NaN   \n",
       "\n",
       "              WTeams.SKEW(WTeam_events.ElapsedSeconds)  \\\n",
       "Game_WTeamID                                             \n",
       "0                                                  NaN   \n",
       "1                                                  NaN   \n",
       "2                                                  NaN   \n",
       "3                                                  NaN   \n",
       "4                                                  NaN   \n",
       "\n",
       "              WTeams.MEDIAN(WTeam_events.WPoints)  \\\n",
       "Game_WTeamID                                        \n",
       "0                                             NaN   \n",
       "1                                             NaN   \n",
       "2                                             NaN   \n",
       "3                                             NaN   \n",
       "4                                             NaN   \n",
       "\n",
       "              WTeams.MEDIAN(WTeam_events.LPoints)  \\\n",
       "Game_WTeamID                                        \n",
       "0                                             NaN   \n",
       "1                                             NaN   \n",
       "2                                             NaN   \n",
       "3                                             NaN   \n",
       "4                                             NaN   \n",
       "\n",
       "              WTeams.MEDIAN(WTeam_events.ElapsedSeconds)  \\\n",
       "Game_WTeamID                                               \n",
       "0                                                    NaN   \n",
       "1                                                    NaN   \n",
       "2                                                    NaN   \n",
       "3                                                    NaN   \n",
       "4                                                    NaN   \n",
       "\n",
       "              WTeams.AVG_TIME_BETWEEN(WTeam_events.Date)  \\\n",
       "Game_WTeamID                                               \n",
       "0                                                    NaN   \n",
       "1                                                    NaN   \n",
       "2                                                    NaN   \n",
       "3                                                    NaN   \n",
       "4                                                    NaN   \n",
       "\n",
       "              WTeams.TIME_SINCE_LAST(WTeam_events.Date)  Outcome  \n",
       "Game_WTeamID                                                      \n",
       "0                                                   NaN      1.0  \n",
       "1                                                   NaN      1.0  \n",
       "2                                                   NaN      1.0  \n",
       "3                                                   NaN      1.0  \n",
       "4                                                   NaN      1.0  \n",
       "\n",
       "[5 rows x 160 columns]"
      ]
     },
     "execution_count": 9,
     "metadata": {},
     "output_type": "execute_result"
    }
   ],
   "source": [
    "outcomes = pd.read_parquet(data_folder+'labels')\n",
    "fm = fm.merge(outcomes, how='left', left_index=True, right_index=True)\n",
    "test_cond_1 = (fm.Season > 2013) & (fm.Season < 2019) & (fm.TourneyName == tourney_cat_map['NCAA'])\n",
    "test_cond_2 = (fm.Season == 2019) & (fm.TourneyName == tourney_cat_map['NCAA'])\n",
    "#fm = fm.drop(columns=['Season','WTeamID','LTeamID'])\n",
    "fm.head()"
   ]
  },
  {
   "cell_type": "code",
   "execution_count": 10,
   "metadata": {},
   "outputs": [
    {
     "name": "stdout",
     "output_type": "stream",
     "text": [
      "<class 'pandas.core.frame.DataFrame'>\n",
      "Int64Index: 670 entries, 137590 to 325110\n",
      "Columns: 160 entries, WLoc to Outcome\n",
      "dtypes: float64(157), int64(3)\n",
      "memory usage: 842.7 KB\n"
     ]
    }
   ],
   "source": [
    "X_test_1 = fm.loc[test_cond_1]\n",
    "X_test_2 = fm.loc[test_cond_2]\n",
    "X_train = fm.loc[~(test_cond_1 | test_cond_2)]\n",
    "X_test_1.info()"
   ]
  },
  {
   "cell_type": "code",
   "execution_count": 11,
   "metadata": {},
   "outputs": [
    {
     "name": "stdout",
     "output_type": "stream",
     "text": [
      "<class 'pandas.core.frame.DataFrame'>\n",
      "Int64Index: 329904 entries, 0 to 330573\n",
      "Columns: 160 entries, WLoc to Outcome\n",
      "dtypes: float64(157), int64(3)\n",
      "memory usage: 405.2 MB\n"
     ]
    }
   ],
   "source": [
    "X_train.info()"
   ]
  },
  {
   "cell_type": "code",
   "execution_count": 12,
   "metadata": {},
   "outputs": [
    {
     "name": "stdout",
     "output_type": "stream",
     "text": [
      "<class 'pandas.core.frame.DataFrame'>\n",
      "Int64Index: 2278 entries, 330574 to 332851\n",
      "Columns: 160 entries, WLoc to Outcome\n",
      "dtypes: float64(157), int64(3)\n",
      "memory usage: 2.8 MB\n"
     ]
    }
   ],
   "source": [
    "X_test_2.info()"
   ]
  },
  {
   "cell_type": "code",
   "execution_count": 13,
   "metadata": {},
   "outputs": [
    {
     "name": "stdout",
     "output_type": "stream",
     "text": [
      "<class 'pandas.core.frame.DataFrame'>\n",
      "Int64Index: 329904 entries, 0 to 330573\n",
      "Columns: 159 entries, WLoc to WTeams.TIME_SINCE_LAST(WTeam_events.Date)\n",
      "dtypes: float64(156), int64(3)\n",
      "memory usage: 402.7 MB\n"
     ]
    }
   ],
   "source": [
    "y_train = X_train['Outcome']\n",
    "y_test_1 = X_test_1['Outcome']\n",
    "X_train = X_train.drop(columns=['Outcome'])\n",
    "X_test_1 = X_test_1.drop(columns=['Outcome'])\n",
    "X_test_2 = X_test_2.drop(columns=['Outcome'])\n",
    "X_train.info()"
   ]
  },
  {
   "cell_type": "code",
   "execution_count": 14,
   "metadata": {},
   "outputs": [],
   "source": [
    "del fm, fm_lst"
   ]
  },
  {
   "cell_type": "code",
   "execution_count": 15,
   "metadata": {},
   "outputs": [],
   "source": [
    "target_names = ['wins', 'losses']"
   ]
  },
  {
   "cell_type": "markdown",
   "metadata": {},
   "source": [
    "### Modeling"
   ]
  },
  {
   "cell_type": "code",
   "execution_count": 18,
   "metadata": {},
   "outputs": [
    {
     "name": "stdout",
     "output_type": "stream",
     "text": [
      "255.69716930389404\n"
     ]
    },
    {
     "data": {
      "text/plain": [
       "['/media/siri/78C6823EC681FD1E/minio/data/kaggle/ncaa/cv_lgbm.joblib']"
      ]
     },
     "execution_count": 18,
     "metadata": {},
     "output_type": "execute_result"
    }
   ],
   "source": [
    "# Model selection\n",
    "params_lgbm = {'n_estimators' : [1, 2, 4, 8, 16, 32, 64, 100, 200],\n",
    "               'learning_rate' : np.linspace(.1, 1, 5, endpoint=True),\n",
    "               'min_split_gain' : np.linspace(0.1, 1.0, 10, endpoint=True),\n",
    "               'reg_lambda': np.linspace(0.1, 10, 10, endpoint=True),\n",
    "               'max_depth' : np.linspace(8, 32, 10, dtype=int),\n",
    "               'num_leaves': np.linspace(20, 200, 10, dtype=int)\n",
    "                 }\n",
    "start = time.time()\n",
    "cv_lgbm = RandomizedSearchCV(lgbm.LGBMClassifier(objective='binary',random_state=42), param_distributions=params_lgbm, cv=5, n_jobs=3, random_state=42)\n",
    "cv_lgbm.fit(X_train, y_train)\n",
    "end = time.time()\n",
    "print(end - start)\n",
    "\n",
    "dump(cv_lgbm, data_folder+'cv_lgbm.joblib')"
   ]
  },
  {
   "cell_type": "code",
   "execution_count": 19,
   "metadata": {},
   "outputs": [
    {
     "name": "stdout",
     "output_type": "stream",
     "text": [
      "3.0828237533569336\n"
     ]
    }
   ],
   "source": [
    "#cv_lgbm = load(data_folder+'cv_lgbm.joblib')\n",
    "\n",
    "clf_lgbm_model = lgbm.LGBMClassifier(random_state=40,\n",
    "                                  objective='binary',\n",
    "                                  n_estimators=cv_lgbm.best_params_['n_estimators'],\n",
    "                                  min_split_gain=cv_lgbm.best_params_['min_split_gain'],\n",
    "                                  learning_rate=cv_lgbm.best_params_['learning_rate'],\n",
    "                                  reg_lambda=cv_lgbm.best_params_['reg_lambda'],\n",
    "                                  max_depth=cv_lgbm.best_params_['max_depth'],\n",
    "                                  num_leaves=cv_lgbm.best_params_['num_leaves'],\n",
    "                                  n_jobs=3)\n",
    "start = time.time()\n",
    "clf_lgbm_model.fit(X_train, y_train)\n",
    "end = time.time()\n",
    "print(end - start)"
   ]
  },
  {
   "cell_type": "code",
   "execution_count": 20,
   "metadata": {},
   "outputs": [],
   "source": [
    "y_pred_1_lgbm = clf_lgbm_model.predict_proba(X_test_1)\n",
    "\n",
    "def prob_to_bin(probs, threshold=0.5):\n",
    "    probs = probs[:,1]\n",
    "    bin_vals = pd.Series(np.zeros_like(probs))\n",
    "    bin_vals.loc[probs > threshold] = 1\n",
    "    return bin_vals\n",
    "y_pred_1_bins = prob_to_bin(y_pred_1_lgbm)"
   ]
  },
  {
   "cell_type": "code",
   "execution_count": 21,
   "metadata": {},
   "outputs": [
    {
     "name": "stdout",
     "output_type": "stream",
     "text": [
      "Accuracy score for LightGBM  0.9567164179104478\n",
      "Recall score for LightGBM  0.9402985074626866\n",
      "Precision score for LightGBM  0.9722222222222222\n",
      "              precision    recall  f1-score   support\n",
      "\n",
      "        wins       0.94      0.97      0.96       335\n",
      "      losses       0.97      0.94      0.96       335\n",
      "\n",
      "   micro avg       0.96      0.96      0.96       670\n",
      "   macro avg       0.96      0.96      0.96       670\n",
      "weighted avg       0.96      0.96      0.96       670\n",
      "\n"
     ]
    }
   ],
   "source": [
    "score_1_lgbm = accuracy_score(y_test_1, y_pred_1_bins)\n",
    "rscore_1_lgbm = recall_score(y_test_1, y_pred_1_bins)\n",
    "pscore_1_lgbm = precision_score(y_test_1, y_pred_1_bins)\n",
    "print('Accuracy score for LightGBM ', score_1_lgbm)\n",
    "print('Recall score for LightGBM ', rscore_1_lgbm)\n",
    "print('Precision score for LightGBM ', pscore_1_lgbm)\n",
    "print(classification_report(y_test_1, y_pred_1_bins, target_names=target_names))"
   ]
  },
  {
   "cell_type": "code",
   "execution_count": 22,
   "metadata": {},
   "outputs": [
    {
     "data": {
      "image/png": "[encoded data removed]",
      "text/plain": [
       "<Figure size 1440x1440 with 1 Axes>"
      ]
     },
     "metadata": {
      "needs_background": "light"
     },
     "output_type": "display_data"
    }
   ],
   "source": [
    "importances = clf_lgbm_model.feature_importances_\n",
    "sorted_idx = np.argsort(importances)[::-1]\n",
    "\n",
    "plt.figure(figsize=(20,20))\n",
    "# names of important features based on plot above\n",
    "important_features_idx = [idx for idx in sorted_idx if importances[idx] > 0.0]\n",
    "important_features = {idx:X_train.columns[idx] for idx in important_features_idx}\n",
    "\n",
    "# plot top 50 features\n",
    "plt.bar(range(len(important_features_idx)), importances[list(important_features.keys())], color='r', align='center')\n",
    "plt.xticks(range(len(important_features_idx)), list(important_features.values()), rotation='vertical')\n",
    "plt.xlabel('Feature Index')\n",
    "plt.ylabel('Feature Importance')\n",
    "plt.show()"
   ]
  },
  {
   "cell_type": "code",
   "execution_count": 23,
   "metadata": {},
   "outputs": [
    {
     "data": {
      "image/png": "[encoded data removed]",
      "text/plain": [
       "<Figure size 598.555x360 with 1 Axes>"
      ]
     },
     "metadata": {
      "needs_background": "light"
     },
     "output_type": "display_data"
    }
   ],
   "source": [
    "lgbm_fpr, lgbm_tpr, _ = roc_curve(y_test_1, y_pred_1_bins)\n",
    "lgbm_roc_auc = auc(lgbm_fpr, lgbm_tpr)\n",
    "\n",
    "plot_roc(lgbm_fpr, lgbm_tpr, lgbm_roc_auc)"
   ]
  },
  {
   "cell_type": "markdown",
   "metadata": {},
   "source": [
    "### predicting for 2019"
   ]
  },
  {
   "cell_type": "code",
   "execution_count": 24,
   "metadata": {},
   "outputs": [
    {
     "data": {
      "text/plain": [
       "(2278, 2)"
      ]
     },
     "execution_count": 24,
     "metadata": {},
     "output_type": "execute_result"
    }
   ],
   "source": [
    "y_pred_2_lgbm = clf_lgbm_model.predict_proba(X_test_2)\n",
    "y_pred_2_lgbm.shape"
   ]
  },
  {
   "cell_type": "code",
   "execution_count": 25,
   "metadata": {},
   "outputs": [
    {
     "data": {
      "text/plain": [
       "array([0.81740708, 0.81740708, 0.81740708, ..., 0.24168474, 0.24168474,\n",
       "       0.19674872])"
      ]
     },
     "execution_count": 25,
     "metadata": {},
     "output_type": "execute_result"
    }
   ],
   "source": [
    "y_pred_2_lgbm[:,1]"
   ]
  },
  {
   "cell_type": "code",
   "execution_count": 55,
   "metadata": {},
   "outputs": [
    {
     "name": "stdout",
     "output_type": "stream",
     "text": [
      "<class 'pandas.core.frame.DataFrame'>\n",
      "RangeIndex: 2278 entries, 0 to 2277\n",
      "Data columns (total 2 columns):\n",
      "ID      2278 non-null object\n",
      "Pred    2278 non-null float64\n",
      "dtypes: float64(1), object(1)\n",
      "memory usage: 35.7+ KB\n"
     ]
    }
   ],
   "source": [
    "ncaa_2019_games_lgbm = pd.read_csv(data_folder+'SampleSubmissionStage2.csv')\n",
    "ncaa_2019_games_lgbm.info()"
   ]
  },
  {
   "cell_type": "code",
   "execution_count": 56,
   "metadata": {},
   "outputs": [],
   "source": [
    "ncaa_2019_games_lgbm['Pred'] = y_pred_2_lgbm[:,1]"
   ]
  },
  {
   "cell_type": "code",
   "execution_count": 57,
   "metadata": {},
   "outputs": [],
   "source": [
    "ncaa_2019_games_lgbm.to_csv(data_folder+'SubmissionStage2_lgbm.csv')"
   ]
  },
  {
   "cell_type": "code",
   "execution_count": 31,
   "metadata": {},
   "outputs": [
    {
     "name": "stdout",
     "output_type": "stream",
     "text": [
      "Requirement already satisfied: binarytree in /home/siri/miniconda3/lib/python3.7/site-packages (4.0.0)\n",
      "Collecting Pillow\n",
      "\u001b[?25l  Downloading https://files.pythonhosted.org/packages/c1/e6/ce127fa0ac17775bc7887c432ffe945c49ae141f01b477b7cd5e63b16bb5/Pillow-6.0.0-cp37-cp37m-manylinux1_x86_64.whl (2.0MB)\n",
      "\u001b[K    100% |████████████████████████████████| 2.0MB 3.8MB/s ta 0:00:011\n",
      "\u001b[?25hInstalling collected packages: Pillow\n",
      "Successfully installed Pillow-6.0.0\n",
      "Collecting bracketeer\n",
      "  Using cached https://files.pythonhosted.org/packages/7e/ed/d1bf72f166151627f00c9e60860363c5a13a8e406a22d5b6fb6099bb9eac/bracketeer-0.2.0.tar.gz\n",
      "Requirement already satisfied: pandas in /home/siri/miniconda3/lib/python3.7/site-packages (from bracketeer) (0.24.2)\n",
      "Requirement already satisfied: binarytree in /home/siri/miniconda3/lib/python3.7/site-packages (from bracketeer) (4.0.0)\n",
      "Requirement already satisfied: matplotlib in /home/siri/miniconda3/lib/python3.7/site-packages (from bracketeer) (3.0.3)\n",
      "Requirement already satisfied: Pillow in /home/siri/miniconda3/lib/python3.7/site-packages (from bracketeer) (6.0.0)\n",
      "Requirement already satisfied: python-dateutil>=2.5.0 in /home/siri/miniconda3/lib/python3.7/site-packages (from pandas->bracketeer) (2.7.5)\n",
      "Requirement already satisfied: numpy>=1.12.0 in /home/siri/miniconda3/lib/python3.7/site-packages (from pandas->bracketeer) (1.16.2)\n",
      "Requirement already satisfied: pytz>=2011k in /home/siri/miniconda3/lib/python3.7/site-packages (from pandas->bracketeer) (2018.9)\n",
      "Requirement already satisfied: cycler>=0.10 in /home/siri/miniconda3/lib/python3.7/site-packages (from matplotlib->bracketeer) (0.10.0)\n",
      "Requirement already satisfied: kiwisolver>=1.0.1 in /home/siri/miniconda3/lib/python3.7/site-packages (from matplotlib->bracketeer) (1.0.1)\n",
      "Requirement already satisfied: pyparsing!=2.0.4,!=2.1.2,!=2.1.6,>=2.0.1 in /home/siri/miniconda3/lib/python3.7/site-packages (from matplotlib->bracketeer) (2.3.1)\n",
      "Requirement already satisfied: six>=1.5 in /home/siri/miniconda3/lib/python3.7/site-packages (from python-dateutil>=2.5.0->pandas->bracketeer) (1.12.0)\n",
      "Requirement already satisfied: setuptools in /home/siri/miniconda3/lib/python3.7/site-packages (from kiwisolver>=1.0.1->matplotlib->bracketeer) (40.8.0)\n",
      "Building wheels for collected packages: bracketeer\n",
      "  Building wheel for bracketeer (setup.py) ... \u001b[?25ldone\n",
      "\u001b[?25h  Stored in directory: /home/siri/.cache/pip/wheels/22/fc/6e/c4fe2348b2f27862b3bc2184759a4d7c62b67f5817b5cfc4eb\n",
      "Successfully built bracketeer\n",
      "Installing collected packages: bracketeer\n",
      "Successfully installed bracketeer-0.2.0\n"
     ]
    }
   ],
   "source": [
    "! pip install binarytree\n",
    "! pip install Pillow\n",
    "! pip install bracketeer"
   ]
  },
  {
   "cell_type": "code",
   "execution_count": 58,
   "metadata": {},
   "outputs": [],
   "source": [
    "from bracketeer import build_bracket\n",
    "b = build_bracket(\n",
    "        outputPath='../img/bracket_pred_2019_lgbm.png',\n",
    "        teamsPath=data_folder+'Teams.csv',\n",
    "        seedsPath=data_folder+'NCAATourneySeeds.csv',\n",
    "        submissionPath=data_folder+'SubmissionStage2_lgbm.csv',\n",
    "        slotsPath=data_folder+'NCAATourneySlots.csv',\n",
    "        #resultsPath=None,\n",
    "        year=2019\n",
    ")"
   ]
  },
  {
   "cell_type": "markdown",
   "metadata": {},
   "source": [
    "<img src=\"../img/bracket_pred_2019_lgbm.png\" width=905 height=996 align='left'></img>"
   ]
  },
  {
   "cell_type": "markdown",
   "metadata": {},
   "source": [
    "### XGBoost (using important features selected by LightGBM)"
   ]
  },
  {
   "cell_type": "code",
   "execution_count": 43,
   "metadata": {},
   "outputs": [
    {
     "data": {
      "text/plain": [
       "['WTeams.MEAN(games.WScore)',\n",
       " 'WTeams.MEAN(games.LScore)',\n",
       " 'WTeams.TIME_SINCE_LAST(games.TimeIndex)',\n",
       " 'Season',\n",
       " 'WTeams.TIME_SINCE_LAST(massey_rankings.Date)',\n",
       " 'WTeams.COUNT(massey_rankings)',\n",
       " 'WTeams.AVG_TIME_BETWEEN(games.TimeIndex)',\n",
       " 'WTeams.COUNT(games)',\n",
       " 'WTeams.MEAN(regionwise_seeds.Seed)',\n",
       " 'WTeams.MEDIAN(massey_rankings.OrdinalRank)',\n",
       " 'WTeams.TIME_SINCE_LAST(regionwise_seeds.Date)',\n",
       " 'WTeams.SKEW(massey_rankings.OrdinalRank)',\n",
       " 'WTeams.MEAN(massey_rankings.OrdinalRank)',\n",
       " 'WTeams.AVG_TIME_BETWEEN(massey_rankings.Date)',\n",
       " 'WTeams.MEDIAN(games.LScore)',\n",
       " 'WLoc',\n",
       " 'WTeams.FirstD1Season',\n",
       " 'WTeams.MEDIAN(games.WScore)',\n",
       " 'WTeams.STD(massey_rankings.OrdinalRank)',\n",
       " 'time_since_previous_by_LTeamID',\n",
       " 'TourneyName',\n",
       " 'WTeams.STD(WTeam_events.WPoints)',\n",
       " 'WTeams.MEAN(games.LFGM)',\n",
       " 'WTeams.MEAN(games.LDR)',\n",
       " 'WTeams.MEDIAN(games.LFGM)',\n",
       " 'WTeams.MEAN(games.WDR)',\n",
       " 'WTeams.STD(WTeam_events.ElapsedSeconds)']"
      ]
     },
     "execution_count": 43,
     "metadata": {},
     "output_type": "execute_result"
    }
   ],
   "source": [
    "list(important_features.values())"
   ]
  },
  {
   "cell_type": "code",
   "execution_count": 48,
   "metadata": {},
   "outputs": [],
   "source": [
    "X_train_imp = X_train[list(important_features.values())]\n",
    "X_test_1_imp = X_test_1[list(important_features.values())]\n",
    "X_test_2_imp = X_test_2[list(important_features.values())]"
   ]
  },
  {
   "cell_type": "code",
   "execution_count": 65,
   "metadata": {
    "scrolled": true
   },
   "outputs": [
    {
     "name": "stdout",
     "output_type": "stream",
     "text": [
      "1554.2405381202698\n"
     ]
    },
    {
     "data": {
      "text/plain": [
       "['/media/siri/78C6823EC681FD1E/minio/data/kaggle/ncaa/xgb_ramdomcv.joblib']"
      ]
     },
     "execution_count": 65,
     "metadata": {},
     "output_type": "execute_result"
    }
   ],
   "source": [
    "params_xgb = {'n_estimators' : [1,2,4,8,16,32,64,128,256],\n",
    "          'gamma' : np.linspace(0.01,1,10),\n",
    "          'learning_rate' : np.linspace(.01, 1, 10),\n",
    "          'reg_lambda' : np.linspace(.01, 10, 10),\n",
    "          'max_depth' : np.linspace(1, 32, 10, dtype=int)\n",
    "        }\n",
    "start = time.time()\n",
    "cv_xgb  = RandomizedSearchCV(xgb.XGBClassifier(objective='binary:logistic',random_state=42), param_distributions=params_xgb, \n",
    "                             random_state=42, cv=5, n_jobs=4)\n",
    "cv_xgb.fit(X_train, y_train)\n",
    "end = time.time()\n",
    "print(end - start)\n",
    "\n",
    "dump(cv_xgb, data_folder+'xgb_ramdomcv.joblib')"
   ]
  },
  {
   "cell_type": "code",
   "execution_count": 66,
   "metadata": {},
   "outputs": [
    {
     "name": "stdout",
     "output_type": "stream",
     "text": [
      "7.749459266662598\n"
     ]
    }
   ],
   "source": [
    "#cv_xgb = load(data_folder+'logr_ramdomcv.joblib')\n",
    "\n",
    "clf_xgb_model = xgb.XGBClassifier(random_state=42,\n",
    "                                  objective='binary:logistic',\n",
    "                                  n_estimators=cv_xgb.best_params_['n_estimators'],\n",
    "                                  gamma=cv_xgb.best_params_['gamma'],\n",
    "                                  learning_rate=cv_xgb.best_params_['learning_rate'],\n",
    "                                  reg_lambda=cv_xgb.best_params_['reg_lambda'],\n",
    "                                  max_depth=cv_xgb.best_params_['max_depth'],\n",
    "                                  n_jobs=3)\n",
    "start = time.time()\n",
    "clf_xgb_model.fit(X_train, y_train)\n",
    "end = time.time()\n",
    "print(end - start)"
   ]
  },
  {
   "cell_type": "code",
   "execution_count": 67,
   "metadata": {},
   "outputs": [
    {
     "name": "stdout",
     "output_type": "stream",
     "text": [
      "Accuracy score for XGBoost  0.9597014925373134\n",
      "Recall score for XGBoost  0.9194029850746268\n",
      "Precision score for XGBoost  1.0\n",
      "              precision    recall  f1-score   support\n",
      "\n",
      "        wins       0.93      1.00      0.96       335\n",
      "      losses       1.00      0.92      0.96       335\n",
      "\n",
      "   micro avg       0.96      0.96      0.96       670\n",
      "   macro avg       0.96      0.96      0.96       670\n",
      "weighted avg       0.96      0.96      0.96       670\n",
      "\n"
     ]
    }
   ],
   "source": [
    "y_pred_1_xgb = clf_xgb_model.predict(X_test_1)\n",
    "score_1_xgb = accuracy_score(y_test_1, y_pred_1_xgb)\n",
    "rscore_1_xgb = recall_score(y_test_1, y_pred_1_xgb)\n",
    "pscore_1_xgb = precision_score(y_test_1, y_pred_1_xgb)\n",
    "print('Accuracy score for XGBoost ', score_1_xgb)\n",
    "print('Recall score for XGBoost ', rscore_1_xgb)\n",
    "print('Precision score for XGBoost ', pscore_1_xgb)\n",
    "print(classification_report(y_test_1, y_pred_1_xgb, target_names=target_names))"
   ]
  },
  {
   "cell_type": "code",
   "execution_count": 68,
   "metadata": {},
   "outputs": [
    {
     "data": {
      "image/png": "[encoded data removed]",
      "text/plain": [
       "<Figure size 598.555x360 with 1 Axes>"
      ]
     },
     "metadata": {
      "needs_background": "light"
     },
     "output_type": "display_data"
    }
   ],
   "source": [
    "xgb_fpr, xgb_tpr, _ = roc_curve(y_test_1, y_pred_1_xgb)\n",
    "xgb_roc_auc = auc(xgb_fpr, xgb_tpr)\n",
    "\n",
    "plot_roc(xgb_fpr, xgb_tpr, xgb_roc_auc)"
   ]
  },
  {
   "cell_type": "code",
   "execution_count": 71,
   "metadata": {},
   "outputs": [
    {
     "name": "stdout",
     "output_type": "stream",
     "text": [
      "<class 'pandas.core.frame.DataFrame'>\n",
      "RangeIndex: 2278 entries, 0 to 2277\n",
      "Data columns (total 2 columns):\n",
      "ID      2278 non-null object\n",
      "Pred    2278 non-null float64\n",
      "dtypes: float64(1), object(1)\n",
      "memory usage: 35.7+ KB\n"
     ]
    }
   ],
   "source": [
    "ncaa_2019_games_xgb = pd.read_csv(data_folder+'SampleSubmissionStage2.csv')\n",
    "ncaa_2019_games_xgb.info()"
   ]
  },
  {
   "cell_type": "code",
   "execution_count": 73,
   "metadata": {},
   "outputs": [],
   "source": [
    "y_pred_2_xgb = clf_xgb_model.predict_proba(X_test_2)\n",
    "\n",
    "ncaa_2019_games_xgb['Pred'] = y_pred_2_xgb[:,1]"
   ]
  },
  {
   "cell_type": "code",
   "execution_count": 74,
   "metadata": {},
   "outputs": [],
   "source": [
    "ncaa_2019_games_xgb.to_csv(data_folder+'SubmissionStage2_xgb.csv')"
   ]
  },
  {
   "cell_type": "code",
   "execution_count": 75,
   "metadata": {},
   "outputs": [],
   "source": [
    "from bracketeer import build_bracket\n",
    "b = build_bracket(\n",
    "        outputPath='../img/bracket_pred_2019_xgb.png',\n",
    "        teamsPath=data_folder+'Teams.csv',\n",
    "        seedsPath=data_folder+'NCAATourneySeeds.csv',\n",
    "        submissionPath=data_folder+'SubmissionStage2_xgb.csv',\n",
    "        slotsPath=data_folder+'NCAATourneySlots.csv',\n",
    "        #resultsPath=None,\n",
    "        year=2019\n",
    ")"
   ]
  },
  {
   "cell_type": "markdown",
   "metadata": {},
   "source": [
    "<img src=\"../img/bracket_pred_2019_xgb.png\" width=905 height=996 align='left'></img>"
   ]
  },
  {
   "cell_type": "code",
   "execution_count": 70,
   "metadata": {},
   "outputs": [
    {
     "data": {
      "image/png": "[encoded data removed]",
      "text/plain": [
       "<Figure size 1440x1440 with 1 Axes>"
      ]
     },
     "metadata": {
      "needs_background": "light"
     },
     "output_type": "display_data"
    }
   ],
   "source": [
    "importances_xgb = clf_xgb_model.feature_importances_\n",
    "sorted_idx_xgb = np.argsort(importances_xgb)[::-1]\n",
    "\n",
    "plt.figure(figsize=(20,20))\n",
    "# names of important features based on plot above\n",
    "important_features_idx_xgb = [idx for idx in sorted_idx_xgb if importances_xgb[idx] > 0.0]\n",
    "important_features_xgb = {idx:X_train.columns[idx] for idx in important_features_idx_xgb}\n",
    "\n",
    "# plot top 50 features\n",
    "plt.bar(range(len(important_features_idx_xgb)), importances_xgb[list(important_features_xgb.keys())], color='r', align='center')\n",
    "plt.xticks(range(len(important_features_idx_xgb)), list(important_features_xgb.values()), rotation='vertical')\n",
    "plt.xlabel('Feature Index')\n",
    "plt.ylabel('Feature Importance')\n",
    "plt.show()"
   ]
  },
  {
   "cell_type": "code",
   "execution_count": null,
   "metadata": {},
   "outputs": [],
   "source": []
  }
 ],
 "metadata": {
  "kernelspec": {
   "display_name": "Python 3",
   "language": "python",
   "name": "python3"
  }
 },
 "nbformat": 4,
 "nbformat_minor": 2
}
