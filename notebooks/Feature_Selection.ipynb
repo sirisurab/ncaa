{
 "cells": [
  {
   "cell_type": "code",
   "execution_count": 1,
   "metadata": {},
   "outputs": [],
   "source": [
    "import pandas as pd\n",
    "import numpy as np\n",
    "import matplotlib.pyplot as plt\n",
    "import seaborn as sns\n",
    "import warnings\n",
    "warnings.filterwarnings('ignore')\n",
    "import time\n",
    "\n",
    "import sys\n",
    "sys.path.append('..')\n",
    "from src.utils.plotting import plot_roc\n",
    "\n",
    "from joblib import dump, load\n",
    "import pickle\n",
    "import os\n",
    "import shutil\n",
    "from tqdm import tqdm\n",
    "\n",
    "import featuretools as ft\n",
    "from featuretools import selection\n",
    "\n",
    "import xgboost as xgb\n",
    "import lightgbm as lgbm\n",
    "\n",
    "from sklearn.metrics import accuracy_score, precision_score, recall_score, classification_report, roc_curve, auc\n",
    "\n",
    "from sklearn.linear_model import LogisticRegression\n",
    "from sklearn.model_selection import RandomizedSearchCV\n",
    "\n",
    "from sklearn.ensemble import RandomForestRegressor\n",
    "\n",
    "pd.options.mode.use_inf_as_na = True\n",
    "\n",
    "data_folder = '/media/siri/78C6823EC681FD1E/minio/data/kaggle/ncaa/'"
   ]
  },
  {
   "cell_type": "markdown",
   "metadata": {},
   "source": [
    "### Read Feature Matrices and combine into one"
   ]
  },
  {
   "cell_type": "code",
   "execution_count": 2,
   "metadata": {},
   "outputs": [],
   "source": [
    "total_chunks = 300"
   ]
  },
  {
   "cell_type": "code",
   "execution_count": 3,
   "metadata": {},
   "outputs": [
    {
     "name": "stderr",
     "output_type": "stream",
     "text": [
      "100%|██████████| 300/300 [00:24<00:00, 12.02it/s]\n"
     ]
    },
    {
     "name": "stdout",
     "output_type": "stream",
     "text": [
      "<class 'pandas.core.frame.DataFrame'>\n",
      "Int64Index: 319500 entries, 0 to 319499\n",
      "Columns: 510 entries, time to WTeams.TIME_SINCE_LAST(WTeam_events.Date)\n",
      "dtypes: datetime64[ns](1), float64(505), int64(2), object(2)\n",
      "memory usage: 1.2+ GB\n"
     ]
    }
   ],
   "source": [
    "fm_lst = []\n",
    "#for i in range(1, 6):\n",
    "for i in tqdm(range(0, total_chunks)):\n",
    "    fmi = pd.read_parquet(data_folder+'p{}_fm'.format(i))\n",
    "    fm_lst.append(fmi)\n",
    "fm = pd.concat(fm_lst, axis=0, copy=False)\n",
    "#fm = selection.remove_low_information_features(fm)\n",
    "#del fm_lst\n",
    "fm.info()"
   ]
  },
  {
   "cell_type": "code",
   "execution_count": 4,
   "metadata": {},
   "outputs": [
    {
     "data": {
      "text/html": [
       "<div>\n",
       "<style scoped>\n",
       "    .dataframe tbody tr th:only-of-type {\n",
       "        vertical-align: middle;\n",
       "    }\n",
       "\n",
       "    .dataframe tbody tr th {\n",
       "        vertical-align: top;\n",
       "    }\n",
       "\n",
       "    .dataframe thead th {\n",
       "        text-align: right;\n",
       "    }\n",
       "</style>\n",
       "<table border=\"1\" class=\"dataframe\">\n",
       "  <thead>\n",
       "    <tr style=\"text-align: right;\">\n",
       "      <th></th>\n",
       "      <th>time</th>\n",
       "      <th>LAst</th>\n",
       "      <th>LBlk</th>\n",
       "      <th>LDR</th>\n",
       "      <th>LFGA</th>\n",
       "      <th>LFGA3</th>\n",
       "      <th>LFGM</th>\n",
       "      <th>LFGM3</th>\n",
       "      <th>LFTA</th>\n",
       "      <th>LFTM</th>\n",
       "      <th>...</th>\n",
       "      <th>WTeams.STD(WTeam_events.LPoints)</th>\n",
       "      <th>WTeams.STD(WTeam_events.ElapsedSeconds)</th>\n",
       "      <th>WTeams.SKEW(WTeam_events.WPoints)</th>\n",
       "      <th>WTeams.SKEW(WTeam_events.LPoints)</th>\n",
       "      <th>WTeams.SKEW(WTeam_events.ElapsedSeconds)</th>\n",
       "      <th>WTeams.MEDIAN(WTeam_events.WPoints)</th>\n",
       "      <th>WTeams.MEDIAN(WTeam_events.LPoints)</th>\n",
       "      <th>WTeams.MEDIAN(WTeam_events.ElapsedSeconds)</th>\n",
       "      <th>WTeams.AVG_TIME_BETWEEN(WTeam_events.Date)</th>\n",
       "      <th>WTeams.TIME_SINCE_LAST(WTeam_events.Date)</th>\n",
       "    </tr>\n",
       "    <tr>\n",
       "      <th>Game_WTeamID</th>\n",
       "      <th></th>\n",
       "      <th></th>\n",
       "      <th></th>\n",
       "      <th></th>\n",
       "      <th></th>\n",
       "      <th></th>\n",
       "      <th></th>\n",
       "      <th></th>\n",
       "      <th></th>\n",
       "      <th></th>\n",
       "      <th></th>\n",
       "      <th></th>\n",
       "      <th></th>\n",
       "      <th></th>\n",
       "      <th></th>\n",
       "      <th></th>\n",
       "      <th></th>\n",
       "      <th></th>\n",
       "      <th></th>\n",
       "      <th></th>\n",
       "      <th></th>\n",
       "    </tr>\n",
       "  </thead>\n",
       "  <tbody>\n",
       "    <tr>\n",
       "      <th>0</th>\n",
       "      <td>1984-10-28 12:00:00</td>\n",
       "      <td>NaN</td>\n",
       "      <td>NaN</td>\n",
       "      <td>NaN</td>\n",
       "      <td>NaN</td>\n",
       "      <td>NaN</td>\n",
       "      <td>NaN</td>\n",
       "      <td>NaN</td>\n",
       "      <td>NaN</td>\n",
       "      <td>NaN</td>\n",
       "      <td>...</td>\n",
       "      <td>NaN</td>\n",
       "      <td>NaN</td>\n",
       "      <td>NaN</td>\n",
       "      <td>NaN</td>\n",
       "      <td>NaN</td>\n",
       "      <td>NaN</td>\n",
       "      <td>NaN</td>\n",
       "      <td>NaN</td>\n",
       "      <td>NaN</td>\n",
       "      <td>NaN</td>\n",
       "    </tr>\n",
       "    <tr>\n",
       "      <th>1</th>\n",
       "      <td>1984-10-28 12:00:00</td>\n",
       "      <td>NaN</td>\n",
       "      <td>NaN</td>\n",
       "      <td>NaN</td>\n",
       "      <td>NaN</td>\n",
       "      <td>NaN</td>\n",
       "      <td>NaN</td>\n",
       "      <td>NaN</td>\n",
       "      <td>NaN</td>\n",
       "      <td>NaN</td>\n",
       "      <td>...</td>\n",
       "      <td>NaN</td>\n",
       "      <td>NaN</td>\n",
       "      <td>NaN</td>\n",
       "      <td>NaN</td>\n",
       "      <td>NaN</td>\n",
       "      <td>NaN</td>\n",
       "      <td>NaN</td>\n",
       "      <td>NaN</td>\n",
       "      <td>NaN</td>\n",
       "      <td>NaN</td>\n",
       "    </tr>\n",
       "    <tr>\n",
       "      <th>2</th>\n",
       "      <td>1984-10-28 12:00:00</td>\n",
       "      <td>NaN</td>\n",
       "      <td>NaN</td>\n",
       "      <td>NaN</td>\n",
       "      <td>NaN</td>\n",
       "      <td>NaN</td>\n",
       "      <td>NaN</td>\n",
       "      <td>NaN</td>\n",
       "      <td>NaN</td>\n",
       "      <td>NaN</td>\n",
       "      <td>...</td>\n",
       "      <td>NaN</td>\n",
       "      <td>NaN</td>\n",
       "      <td>NaN</td>\n",
       "      <td>NaN</td>\n",
       "      <td>NaN</td>\n",
       "      <td>NaN</td>\n",
       "      <td>NaN</td>\n",
       "      <td>NaN</td>\n",
       "      <td>NaN</td>\n",
       "      <td>NaN</td>\n",
       "    </tr>\n",
       "    <tr>\n",
       "      <th>3</th>\n",
       "      <td>1984-10-28 12:00:00</td>\n",
       "      <td>NaN</td>\n",
       "      <td>NaN</td>\n",
       "      <td>NaN</td>\n",
       "      <td>NaN</td>\n",
       "      <td>NaN</td>\n",
       "      <td>NaN</td>\n",
       "      <td>NaN</td>\n",
       "      <td>NaN</td>\n",
       "      <td>NaN</td>\n",
       "      <td>...</td>\n",
       "      <td>NaN</td>\n",
       "      <td>NaN</td>\n",
       "      <td>NaN</td>\n",
       "      <td>NaN</td>\n",
       "      <td>NaN</td>\n",
       "      <td>NaN</td>\n",
       "      <td>NaN</td>\n",
       "      <td>NaN</td>\n",
       "      <td>NaN</td>\n",
       "      <td>NaN</td>\n",
       "    </tr>\n",
       "    <tr>\n",
       "      <th>4</th>\n",
       "      <td>1984-10-28 12:00:00</td>\n",
       "      <td>NaN</td>\n",
       "      <td>NaN</td>\n",
       "      <td>NaN</td>\n",
       "      <td>NaN</td>\n",
       "      <td>NaN</td>\n",
       "      <td>NaN</td>\n",
       "      <td>NaN</td>\n",
       "      <td>NaN</td>\n",
       "      <td>NaN</td>\n",
       "      <td>...</td>\n",
       "      <td>NaN</td>\n",
       "      <td>NaN</td>\n",
       "      <td>NaN</td>\n",
       "      <td>NaN</td>\n",
       "      <td>NaN</td>\n",
       "      <td>NaN</td>\n",
       "      <td>NaN</td>\n",
       "      <td>NaN</td>\n",
       "      <td>NaN</td>\n",
       "      <td>NaN</td>\n",
       "    </tr>\n",
       "  </tbody>\n",
       "</table>\n",
       "<p>5 rows × 509 columns</p>\n",
       "</div>"
      ],
      "text/plain": [
       "                            time  LAst  LBlk  LDR  LFGA  LFGA3  LFGM  LFGM3  \\\n",
       "Game_WTeamID                                                                  \n",
       "0            1984-10-28 12:00:00   NaN   NaN  NaN   NaN    NaN   NaN    NaN   \n",
       "1            1984-10-28 12:00:00   NaN   NaN  NaN   NaN    NaN   NaN    NaN   \n",
       "2            1984-10-28 12:00:00   NaN   NaN  NaN   NaN    NaN   NaN    NaN   \n",
       "3            1984-10-28 12:00:00   NaN   NaN  NaN   NaN    NaN   NaN    NaN   \n",
       "4            1984-10-28 12:00:00   NaN   NaN  NaN   NaN    NaN   NaN    NaN   \n",
       "\n",
       "              LFTA  LFTM  ...  WTeams.STD(WTeam_events.LPoints)  \\\n",
       "Game_WTeamID              ...                                     \n",
       "0              NaN   NaN  ...                               NaN   \n",
       "1              NaN   NaN  ...                               NaN   \n",
       "2              NaN   NaN  ...                               NaN   \n",
       "3              NaN   NaN  ...                               NaN   \n",
       "4              NaN   NaN  ...                               NaN   \n",
       "\n",
       "              WTeams.STD(WTeam_events.ElapsedSeconds)  \\\n",
       "Game_WTeamID                                            \n",
       "0                                                 NaN   \n",
       "1                                                 NaN   \n",
       "2                                                 NaN   \n",
       "3                                                 NaN   \n",
       "4                                                 NaN   \n",
       "\n",
       "              WTeams.SKEW(WTeam_events.WPoints)  \\\n",
       "Game_WTeamID                                      \n",
       "0                                           NaN   \n",
       "1                                           NaN   \n",
       "2                                           NaN   \n",
       "3                                           NaN   \n",
       "4                                           NaN   \n",
       "\n",
       "              WTeams.SKEW(WTeam_events.LPoints)  \\\n",
       "Game_WTeamID                                      \n",
       "0                                           NaN   \n",
       "1                                           NaN   \n",
       "2                                           NaN   \n",
       "3                                           NaN   \n",
       "4                                           NaN   \n",
       "\n",
       "              WTeams.SKEW(WTeam_events.ElapsedSeconds)  \\\n",
       "Game_WTeamID                                             \n",
       "0                                                  NaN   \n",
       "1                                                  NaN   \n",
       "2                                                  NaN   \n",
       "3                                                  NaN   \n",
       "4                                                  NaN   \n",
       "\n",
       "              WTeams.MEDIAN(WTeam_events.WPoints)  \\\n",
       "Game_WTeamID                                        \n",
       "0                                             NaN   \n",
       "1                                             NaN   \n",
       "2                                             NaN   \n",
       "3                                             NaN   \n",
       "4                                             NaN   \n",
       "\n",
       "              WTeams.MEDIAN(WTeam_events.LPoints)  \\\n",
       "Game_WTeamID                                        \n",
       "0                                             NaN   \n",
       "1                                             NaN   \n",
       "2                                             NaN   \n",
       "3                                             NaN   \n",
       "4                                             NaN   \n",
       "\n",
       "              WTeams.MEDIAN(WTeam_events.ElapsedSeconds)  \\\n",
       "Game_WTeamID                                               \n",
       "0                                                    NaN   \n",
       "1                                                    NaN   \n",
       "2                                                    NaN   \n",
       "3                                                    NaN   \n",
       "4                                                    NaN   \n",
       "\n",
       "              WTeams.AVG_TIME_BETWEEN(WTeam_events.Date)  \\\n",
       "Game_WTeamID                                               \n",
       "0                                                    NaN   \n",
       "1                                                    NaN   \n",
       "2                                                    NaN   \n",
       "3                                                    NaN   \n",
       "4                                                    NaN   \n",
       "\n",
       "              WTeams.TIME_SINCE_LAST(WTeam_events.Date)  \n",
       "Game_WTeamID                                             \n",
       "0                                                   NaN  \n",
       "1                                                   NaN  \n",
       "2                                                   NaN  \n",
       "3                                                   NaN  \n",
       "4                                                   NaN  \n",
       "\n",
       "[5 rows x 509 columns]"
      ]
     },
     "execution_count": 4,
     "metadata": {},
     "output_type": "execute_result"
    }
   ],
   "source": [
    "fm = selection.remove_low_information_features(fm)\n",
    "fm.head()"
   ]
  },
  {
   "cell_type": "code",
   "execution_count": 5,
   "metadata": {},
   "outputs": [
    {
     "data": {
      "text/plain": [
       "Index(['time', 'LAst', 'LBlk', 'LDR', 'LFGA', 'LFGA3', 'LFGM', 'LFGM3', 'LFTA',\n",
       "       'LFTM',\n",
       "       ...\n",
       "       'WTeams.STD(WTeam_events.LPoints)',\n",
       "       'WTeams.STD(WTeam_events.ElapsedSeconds)',\n",
       "       'WTeams.SKEW(WTeam_events.WPoints)',\n",
       "       'WTeams.SKEW(WTeam_events.LPoints)',\n",
       "       'WTeams.SKEW(WTeam_events.ElapsedSeconds)',\n",
       "       'WTeams.MEDIAN(WTeam_events.WPoints)',\n",
       "       'WTeams.MEDIAN(WTeam_events.LPoints)',\n",
       "       'WTeams.MEDIAN(WTeam_events.ElapsedSeconds)',\n",
       "       'WTeams.AVG_TIME_BETWEEN(WTeam_events.Date)',\n",
       "       'WTeams.TIME_SINCE_LAST(WTeam_events.Date)'],\n",
       "      dtype='object', length=509)"
      ]
     },
     "execution_count": 5,
     "metadata": {},
     "output_type": "execute_result"
    }
   ],
   "source": [
    "fm.columns"
   ]
  },
  {
   "cell_type": "code",
   "execution_count": 7,
   "metadata": {},
   "outputs": [
    {
     "name": "stdout",
     "output_type": "stream",
     "text": [
      "<class 'pandas.core.frame.DataFrame'>\n",
      "Int64Index: 319500 entries, 0 to 319499\n",
      "Columns: 506 entries, LAst to WTeams.TIME_SINCE_LAST(WTeam_events.Date)\n",
      "dtypes: float64(502), int64(2), object(2)\n",
      "memory usage: 1.2+ GB\n"
     ]
    }
   ],
   "source": [
    "fm = fm.drop(columns=['WTeamID', 'LTeamID','time'])\n",
    "fm.info()"
   ]
  },
  {
   "cell_type": "code",
   "execution_count": 8,
   "metadata": {},
   "outputs": [
    {
     "data": {
      "text/plain": [
       "True"
      ]
     },
     "execution_count": 8,
     "metadata": {},
     "output_type": "execute_result"
    }
   ],
   "source": [
    "fm.index.is_unique"
   ]
  },
  {
   "cell_type": "markdown",
   "metadata": {},
   "source": [
    "#### Convert TourneyName to categorical and add outcome column"
   ]
  },
  {
   "cell_type": "code",
   "execution_count": 9,
   "metadata": {},
   "outputs": [],
   "source": [
    "def convert_to_categorical(series):\n",
    "    values = series.unique()\n",
    "    cat_map = {cat_val:cat_num  for cat_num, cat_val in enumerate(values)}    \n",
    "    return series.map(cat_map), cat_map "
   ]
  },
  {
   "cell_type": "code",
   "execution_count": 10,
   "metadata": {},
   "outputs": [],
   "source": [
    "#fm['Outcome'] = 0\n",
    "#fm = fm.apply(set_game_outcome, axis=1)\n",
    "fm['TourneyName'], tourney_cat_map = convert_to_categorical(fm['TourneyName'])\n",
    "\n",
    "fm['WLoc'], wloc_cat_map = convert_to_categorical(fm['WLoc'])"
   ]
  },
  {
   "cell_type": "code",
   "execution_count": 11,
   "metadata": {},
   "outputs": [
    {
     "data": {
      "text/html": [
       "<div>\n",
       "<style scoped>\n",
       "    .dataframe tbody tr th:only-of-type {\n",
       "        vertical-align: middle;\n",
       "    }\n",
       "\n",
       "    .dataframe tbody tr th {\n",
       "        vertical-align: top;\n",
       "    }\n",
       "\n",
       "    .dataframe thead th {\n",
       "        text-align: right;\n",
       "    }\n",
       "</style>\n",
       "<table border=\"1\" class=\"dataframe\">\n",
       "  <thead>\n",
       "    <tr style=\"text-align: right;\">\n",
       "      <th></th>\n",
       "      <th>LAst</th>\n",
       "      <th>LBlk</th>\n",
       "      <th>LDR</th>\n",
       "      <th>LFGA</th>\n",
       "      <th>LFGA3</th>\n",
       "      <th>LFGM</th>\n",
       "      <th>LFGM3</th>\n",
       "      <th>LFTA</th>\n",
       "      <th>LFTM</th>\n",
       "      <th>LOR</th>\n",
       "      <th>...</th>\n",
       "      <th>WTeams.STD(WTeam_events.ElapsedSeconds)</th>\n",
       "      <th>WTeams.SKEW(WTeam_events.WPoints)</th>\n",
       "      <th>WTeams.SKEW(WTeam_events.LPoints)</th>\n",
       "      <th>WTeams.SKEW(WTeam_events.ElapsedSeconds)</th>\n",
       "      <th>WTeams.MEDIAN(WTeam_events.WPoints)</th>\n",
       "      <th>WTeams.MEDIAN(WTeam_events.LPoints)</th>\n",
       "      <th>WTeams.MEDIAN(WTeam_events.ElapsedSeconds)</th>\n",
       "      <th>WTeams.AVG_TIME_BETWEEN(WTeam_events.Date)</th>\n",
       "      <th>WTeams.TIME_SINCE_LAST(WTeam_events.Date)</th>\n",
       "      <th>Outcome</th>\n",
       "    </tr>\n",
       "    <tr>\n",
       "      <th>Game_WTeamID</th>\n",
       "      <th></th>\n",
       "      <th></th>\n",
       "      <th></th>\n",
       "      <th></th>\n",
       "      <th></th>\n",
       "      <th></th>\n",
       "      <th></th>\n",
       "      <th></th>\n",
       "      <th></th>\n",
       "      <th></th>\n",
       "      <th></th>\n",
       "      <th></th>\n",
       "      <th></th>\n",
       "      <th></th>\n",
       "      <th></th>\n",
       "      <th></th>\n",
       "      <th></th>\n",
       "      <th></th>\n",
       "      <th></th>\n",
       "      <th></th>\n",
       "      <th></th>\n",
       "    </tr>\n",
       "  </thead>\n",
       "  <tbody>\n",
       "    <tr>\n",
       "      <th>0</th>\n",
       "      <td>NaN</td>\n",
       "      <td>NaN</td>\n",
       "      <td>NaN</td>\n",
       "      <td>NaN</td>\n",
       "      <td>NaN</td>\n",
       "      <td>NaN</td>\n",
       "      <td>NaN</td>\n",
       "      <td>NaN</td>\n",
       "      <td>NaN</td>\n",
       "      <td>NaN</td>\n",
       "      <td>...</td>\n",
       "      <td>NaN</td>\n",
       "      <td>NaN</td>\n",
       "      <td>NaN</td>\n",
       "      <td>NaN</td>\n",
       "      <td>NaN</td>\n",
       "      <td>NaN</td>\n",
       "      <td>NaN</td>\n",
       "      <td>NaN</td>\n",
       "      <td>NaN</td>\n",
       "      <td>1</td>\n",
       "    </tr>\n",
       "    <tr>\n",
       "      <th>1</th>\n",
       "      <td>NaN</td>\n",
       "      <td>NaN</td>\n",
       "      <td>NaN</td>\n",
       "      <td>NaN</td>\n",
       "      <td>NaN</td>\n",
       "      <td>NaN</td>\n",
       "      <td>NaN</td>\n",
       "      <td>NaN</td>\n",
       "      <td>NaN</td>\n",
       "      <td>NaN</td>\n",
       "      <td>...</td>\n",
       "      <td>NaN</td>\n",
       "      <td>NaN</td>\n",
       "      <td>NaN</td>\n",
       "      <td>NaN</td>\n",
       "      <td>NaN</td>\n",
       "      <td>NaN</td>\n",
       "      <td>NaN</td>\n",
       "      <td>NaN</td>\n",
       "      <td>NaN</td>\n",
       "      <td>1</td>\n",
       "    </tr>\n",
       "    <tr>\n",
       "      <th>2</th>\n",
       "      <td>NaN</td>\n",
       "      <td>NaN</td>\n",
       "      <td>NaN</td>\n",
       "      <td>NaN</td>\n",
       "      <td>NaN</td>\n",
       "      <td>NaN</td>\n",
       "      <td>NaN</td>\n",
       "      <td>NaN</td>\n",
       "      <td>NaN</td>\n",
       "      <td>NaN</td>\n",
       "      <td>...</td>\n",
       "      <td>NaN</td>\n",
       "      <td>NaN</td>\n",
       "      <td>NaN</td>\n",
       "      <td>NaN</td>\n",
       "      <td>NaN</td>\n",
       "      <td>NaN</td>\n",
       "      <td>NaN</td>\n",
       "      <td>NaN</td>\n",
       "      <td>NaN</td>\n",
       "      <td>1</td>\n",
       "    </tr>\n",
       "    <tr>\n",
       "      <th>3</th>\n",
       "      <td>NaN</td>\n",
       "      <td>NaN</td>\n",
       "      <td>NaN</td>\n",
       "      <td>NaN</td>\n",
       "      <td>NaN</td>\n",
       "      <td>NaN</td>\n",
       "      <td>NaN</td>\n",
       "      <td>NaN</td>\n",
       "      <td>NaN</td>\n",
       "      <td>NaN</td>\n",
       "      <td>...</td>\n",
       "      <td>NaN</td>\n",
       "      <td>NaN</td>\n",
       "      <td>NaN</td>\n",
       "      <td>NaN</td>\n",
       "      <td>NaN</td>\n",
       "      <td>NaN</td>\n",
       "      <td>NaN</td>\n",
       "      <td>NaN</td>\n",
       "      <td>NaN</td>\n",
       "      <td>1</td>\n",
       "    </tr>\n",
       "    <tr>\n",
       "      <th>4</th>\n",
       "      <td>NaN</td>\n",
       "      <td>NaN</td>\n",
       "      <td>NaN</td>\n",
       "      <td>NaN</td>\n",
       "      <td>NaN</td>\n",
       "      <td>NaN</td>\n",
       "      <td>NaN</td>\n",
       "      <td>NaN</td>\n",
       "      <td>NaN</td>\n",
       "      <td>NaN</td>\n",
       "      <td>...</td>\n",
       "      <td>NaN</td>\n",
       "      <td>NaN</td>\n",
       "      <td>NaN</td>\n",
       "      <td>NaN</td>\n",
       "      <td>NaN</td>\n",
       "      <td>NaN</td>\n",
       "      <td>NaN</td>\n",
       "      <td>NaN</td>\n",
       "      <td>NaN</td>\n",
       "      <td>1</td>\n",
       "    </tr>\n",
       "  </tbody>\n",
       "</table>\n",
       "<p>5 rows × 507 columns</p>\n",
       "</div>"
      ],
      "text/plain": [
       "              LAst  LBlk  LDR  LFGA  LFGA3  LFGM  LFGM3  LFTA  LFTM  LOR  ...  \\\n",
       "Game_WTeamID                                                              ...   \n",
       "0              NaN   NaN  NaN   NaN    NaN   NaN    NaN   NaN   NaN  NaN  ...   \n",
       "1              NaN   NaN  NaN   NaN    NaN   NaN    NaN   NaN   NaN  NaN  ...   \n",
       "2              NaN   NaN  NaN   NaN    NaN   NaN    NaN   NaN   NaN  NaN  ...   \n",
       "3              NaN   NaN  NaN   NaN    NaN   NaN    NaN   NaN   NaN  NaN  ...   \n",
       "4              NaN   NaN  NaN   NaN    NaN   NaN    NaN   NaN   NaN  NaN  ...   \n",
       "\n",
       "              WTeams.STD(WTeam_events.ElapsedSeconds)  \\\n",
       "Game_WTeamID                                            \n",
       "0                                                 NaN   \n",
       "1                                                 NaN   \n",
       "2                                                 NaN   \n",
       "3                                                 NaN   \n",
       "4                                                 NaN   \n",
       "\n",
       "              WTeams.SKEW(WTeam_events.WPoints)  \\\n",
       "Game_WTeamID                                      \n",
       "0                                           NaN   \n",
       "1                                           NaN   \n",
       "2                                           NaN   \n",
       "3                                           NaN   \n",
       "4                                           NaN   \n",
       "\n",
       "              WTeams.SKEW(WTeam_events.LPoints)  \\\n",
       "Game_WTeamID                                      \n",
       "0                                           NaN   \n",
       "1                                           NaN   \n",
       "2                                           NaN   \n",
       "3                                           NaN   \n",
       "4                                           NaN   \n",
       "\n",
       "              WTeams.SKEW(WTeam_events.ElapsedSeconds)  \\\n",
       "Game_WTeamID                                             \n",
       "0                                                  NaN   \n",
       "1                                                  NaN   \n",
       "2                                                  NaN   \n",
       "3                                                  NaN   \n",
       "4                                                  NaN   \n",
       "\n",
       "              WTeams.MEDIAN(WTeam_events.WPoints)  \\\n",
       "Game_WTeamID                                        \n",
       "0                                             NaN   \n",
       "1                                             NaN   \n",
       "2                                             NaN   \n",
       "3                                             NaN   \n",
       "4                                             NaN   \n",
       "\n",
       "              WTeams.MEDIAN(WTeam_events.LPoints)  \\\n",
       "Game_WTeamID                                        \n",
       "0                                             NaN   \n",
       "1                                             NaN   \n",
       "2                                             NaN   \n",
       "3                                             NaN   \n",
       "4                                             NaN   \n",
       "\n",
       "              WTeams.MEDIAN(WTeam_events.ElapsedSeconds)  \\\n",
       "Game_WTeamID                                               \n",
       "0                                                    NaN   \n",
       "1                                                    NaN   \n",
       "2                                                    NaN   \n",
       "3                                                    NaN   \n",
       "4                                                    NaN   \n",
       "\n",
       "              WTeams.AVG_TIME_BETWEEN(WTeam_events.Date)  \\\n",
       "Game_WTeamID                                               \n",
       "0                                                    NaN   \n",
       "1                                                    NaN   \n",
       "2                                                    NaN   \n",
       "3                                                    NaN   \n",
       "4                                                    NaN   \n",
       "\n",
       "              WTeams.TIME_SINCE_LAST(WTeam_events.Date)  Outcome  \n",
       "Game_WTeamID                                                      \n",
       "0                                                   NaN        1  \n",
       "1                                                   NaN        1  \n",
       "2                                                   NaN        1  \n",
       "3                                                   NaN        1  \n",
       "4                                                   NaN        1  \n",
       "\n",
       "[5 rows x 507 columns]"
      ]
     },
     "execution_count": 11,
     "metadata": {},
     "output_type": "execute_result"
    }
   ],
   "source": [
    "outcomes = pd.read_parquet(data_folder+'labels')\n",
    "fm = fm.merge(outcomes, how='left', left_index=True, right_index=True)\n",
    "test_cond = (fm.Season > 2013) & (fm.TourneyName == tourney_cat_map['NCAA'])\n",
    "#fm = fm.drop(columns=['Season','WTeamID','LTeamID'])\n",
    "fm.head()"
   ]
  },
  {
   "cell_type": "code",
   "execution_count": 12,
   "metadata": {},
   "outputs": [
    {
     "name": "stdout",
     "output_type": "stream",
     "text": [
      "<class 'pandas.core.frame.DataFrame'>\n",
      "Int64Index: 603 entries, 137590 to 314108\n",
      "Columns: 507 entries, LAst to Outcome\n",
      "dtypes: float64(502), int64(5)\n",
      "memory usage: 2.3 MB\n"
     ]
    }
   ],
   "source": [
    "X_test = fm.loc[test_cond]\n",
    "X_train = fm.loc[~test_cond]\n",
    "X_test.info()"
   ]
  },
  {
   "cell_type": "code",
   "execution_count": 13,
   "metadata": {},
   "outputs": [
    {
     "name": "stdout",
     "output_type": "stream",
     "text": [
      "<class 'pandas.core.frame.DataFrame'>\n",
      "Int64Index: 318897 entries, 0 to 319499\n",
      "Columns: 506 entries, LAst to WTeams.TIME_SINCE_LAST(WTeam_events.Date)\n",
      "dtypes: float64(502), int64(4)\n",
      "memory usage: 1.2 GB\n"
     ]
    }
   ],
   "source": [
    "y_train = X_train['Outcome']\n",
    "y_test = X_test['Outcome']\n",
    "X_train = X_train.drop(columns=['Outcome'])\n",
    "X_test = X_test.drop(columns=['Outcome'])\n",
    "X_train.info()"
   ]
  },
  {
   "cell_type": "code",
   "execution_count": 14,
   "metadata": {},
   "outputs": [],
   "source": [
    "del fm, fm_lst"
   ]
  },
  {
   "cell_type": "code",
   "execution_count": 15,
   "metadata": {},
   "outputs": [],
   "source": [
    "target_names = ['wins', 'losses']"
   ]
  },
  {
   "cell_type": "markdown",
   "metadata": {},
   "source": [
    "### Feature Selection"
   ]
  },
  {
   "cell_type": "code",
   "execution_count": 30,
   "metadata": {},
   "outputs": [
    {
     "name": "stdout",
     "output_type": "stream",
     "text": [
      "92.86999416351318\n"
     ]
    }
   ],
   "source": [
    "#cv_lgbm = load(data_folder+'cv_lgbm.joblib')\n",
    "\n",
    "clf_lgbm_model = lgbm.LGBMClassifier(random_state=40,\n",
    "                                  objective='binary',\n",
    "                                  #n_estimators=cv_lgbm.best_params_['n_estimators'],\n",
    "                                  #min_split_gain=cv_lgbm.best_params_['min_split_gain'],\n",
    "                                  #learning_rate=cv_lgbm.best_params_['learning_rate'],\n",
    "                                  #reg_lambda=cv_lgbm.best_params_['reg_lambda'],\n",
    "                                  #max_depth=cv_lgbm.best_params_['max_depth'],\n",
    "                                  n_jobs=3)\n",
    "start = time.time()\n",
    "clf_lgbm_model.fit(X_train, y_train)\n",
    "end = time.time()\n",
    "print(end - start)"
   ]
  },
  {
   "cell_type": "code",
   "execution_count": 31,
   "metadata": {},
   "outputs": [],
   "source": [
    "y_pred_lgbm = clf_lgbm_model.predict_proba(X_test)\n",
    "\n",
    "def prob_to_bin(probs, threshold=0.5):\n",
    "    probs = probs[:,1]\n",
    "    bin_vals = pd.Series(np.zeros_like(probs))\n",
    "    bin_vals.loc[probs > threshold] = 1\n",
    "    return bin_vals\n",
    "y_pred_bins = prob_to_bin(y_pred_lgbm)"
   ]
  },
  {
   "cell_type": "code",
   "execution_count": 32,
   "metadata": {},
   "outputs": [
    {
     "data": {
      "image/png": "[encoded data removed]",
      "text/plain": [
       "<Figure size 1296x720 with 1 Axes>"
      ]
     },
     "metadata": {
      "needs_background": "light"
     },
     "output_type": "display_data"
    }
   ],
   "source": [
    "importances = clf_lgbm_model.feature_importances_\n",
    "sorted_idx = np.argsort(importances)[::-1]\n",
    "\n",
    "plt.figure(figsize=(18,10))\n",
    "# names of important features based on plot above\n",
    "important_features_idx = [idx for idx in sorted_idx if importances[idx] > 0.0]\n",
    "important_features = {idx:X_train.columns[idx] for idx in important_features_idx}\n",
    "# plot top 50 features\n",
    "plt.bar(range(50), importances[list(important_features.keys())[:50]], color='r', align='center')\n",
    "plt.xticks(range(50), list(important_features.values())[:50], rotation='vertical')\n",
    "plt.xlabel('Feature Index')\n",
    "plt.ylabel('Feature Importance')\n",
    "plt.show()"
   ]
  },
  {
   "cell_type": "markdown",
   "metadata": {},
   "source": [
    "### Drop unimportant Features"
   ]
  },
  {
   "cell_type": "code",
   "execution_count": 35,
   "metadata": {},
   "outputs": [
    {
     "name": "stdout",
     "output_type": "stream",
     "text": [
      "<class 'pandas.core.frame.DataFrame'>\n",
      "Index: 318897 entries, 0_1116 to 9_1333\n",
      "Columns: 278 entries, LAst to LTeams.MEAN(games.WFTA)\n",
      "dtypes: float64(271), int64(7)\n",
      "memory usage: 678.8+ MB\n"
     ]
    }
   ],
   "source": [
    "X_train = X_train[X_train.columns[important_features_idx]]\n",
    "X_train.info()"
   ]
  },
  {
   "cell_type": "code",
   "execution_count": 36,
   "metadata": {},
   "outputs": [
    {
     "name": "stdout",
     "output_type": "stream",
     "text": [
      "<class 'pandas.core.frame.DataFrame'>\n",
      "Index: 603 entries, 1849_1107 to 2183_1437\n",
      "Columns: 278 entries, LAst to LTeams.MEAN(games.WFTA)\n",
      "dtypes: float64(271), int64(7)\n",
      "memory usage: 1.3+ MB\n"
     ]
    }
   ],
   "source": [
    "X_test = X_test[X_test.columns[important_features_idx]]\n",
    "X_test.info()"
   ]
  },
  {
   "cell_type": "markdown",
   "metadata": {},
   "source": [
    "### Modeling"
   ]
  },
  {
   "cell_type": "code",
   "execution_count": 16,
   "metadata": {},
   "outputs": [
    {
     "name": "stdout",
     "output_type": "stream",
     "text": [
      "579.5367674827576\n"
     ]
    },
    {
     "data": {
      "text/plain": [
       "['/media/siri/78C6823EC681FD1E/minio/data/kaggle/ncaa/cv_lgbm.joblib']"
      ]
     },
     "execution_count": 16,
     "metadata": {},
     "output_type": "execute_result"
    }
   ],
   "source": [
    "# Model selection\n",
    "params_lgbm = {'n_estimators' : [1, 2, 4, 8, 16, 32, 64, 100, 200],\n",
    "               'learning_rate' : np.linspace(.1, 1, 5, endpoint=True),\n",
    "               'min_split_gain' : np.linspace(0.1, 1.0, 10, endpoint=True),\n",
    "               'reg_lambda': np.linspace(0.1, 10, 10, endpoint=True),\n",
    "               'max_depth' : np.linspace(8, 32, 10, dtype=int),\n",
    "               'num_leaves': np.linspace(20, 200, 10, dtype=int)\n",
    "                 }\n",
    "start = time.time()\n",
    "cv_lgbm = RandomizedSearchCV(lgbm.LGBMClassifier(objective='binary',random_state=42), param_distributions=params_lgbm, cv=5, n_jobs=3, random_state=42)\n",
    "cv_lgbm.fit(X_train, y_train)\n",
    "end = time.time()\n",
    "print(end - start)\n",
    "\n",
    "dump(cv_lgbm, data_folder+'cv_lgbm.joblib')"
   ]
  },
  {
   "cell_type": "code",
   "execution_count": 17,
   "metadata": {},
   "outputs": [
    {
     "name": "stdout",
     "output_type": "stream",
     "text": [
      "29.768330335617065\n"
     ]
    }
   ],
   "source": [
    "#cv_lgbm = load(data_folder+'cv_lgbm.joblib')\n",
    "\n",
    "clf_lgbm_model = lgbm.LGBMClassifier(random_state=40,\n",
    "                                  objective='binary',\n",
    "                                  n_estimators=cv_lgbm.best_params_['n_estimators'],\n",
    "                                  min_split_gain=cv_lgbm.best_params_['min_split_gain'],\n",
    "                                  learning_rate=cv_lgbm.best_params_['learning_rate'],\n",
    "                                  reg_lambda=cv_lgbm.best_params_['reg_lambda'],\n",
    "                                  max_depth=cv_lgbm.best_params_['max_depth'],\n",
    "                                  num_leaves=cv_lgbm.best_params_['num_leaves'],\n",
    "                                  n_jobs=3)\n",
    "start = time.time()\n",
    "clf_lgbm_model.fit(X_train, y_train)\n",
    "end = time.time()\n",
    "print(end - start)"
   ]
  },
  {
   "cell_type": "code",
   "execution_count": 18,
   "metadata": {},
   "outputs": [],
   "source": [
    "y_pred_lgbm = clf_lgbm_model.predict_proba(X_test)\n",
    "\n",
    "def prob_to_bin(probs, threshold=0.5):\n",
    "    probs = probs[:,1]\n",
    "    bin_vals = pd.Series(np.zeros_like(probs))\n",
    "    bin_vals.loc[probs > threshold] = 1\n",
    "    return bin_vals\n",
    "y_pred_bins = prob_to_bin(y_pred_lgbm)"
   ]
  },
  {
   "cell_type": "code",
   "execution_count": 19,
   "metadata": {},
   "outputs": [
    {
     "name": "stdout",
     "output_type": "stream",
     "text": [
      "Accuracy score for LightGBM  0.9800995024875622\n",
      "Recall score for LightGBM  0.9641791044776119\n",
      "Precision score for LightGBM  1.0\n",
      "              precision    recall  f1-score   support\n",
      "\n",
      "        wins       0.96      1.00      0.98       268\n",
      "      losses       1.00      0.96      0.98       335\n",
      "\n",
      "   micro avg       0.98      0.98      0.98       603\n",
      "   macro avg       0.98      0.98      0.98       603\n",
      "weighted avg       0.98      0.98      0.98       603\n",
      "\n"
     ]
    }
   ],
   "source": [
    "score_lgbm = accuracy_score(y_test, y_pred_bins)\n",
    "rscore_lgbm = recall_score(y_test, y_pred_bins)\n",
    "pscore_lgbm = precision_score(y_test, y_pred_bins)\n",
    "print('Accuracy score for LightGBM ', score_lgbm)\n",
    "print('Recall score for LightGBM ', rscore_lgbm)\n",
    "print('Precision score for LightGBM ', pscore_lgbm)\n",
    "print(classification_report(y_test, y_pred_bins, target_names=target_names))"
   ]
  },
  {
   "cell_type": "code",
   "execution_count": 20,
   "metadata": {},
   "outputs": [
    {
     "data": {
      "image/png": "[encoded data removed]",
      "text/plain": [
       "<Figure size 1440x1440 with 1 Axes>"
      ]
     },
     "metadata": {
      "needs_background": "light"
     },
     "output_type": "display_data"
    }
   ],
   "source": [
    "importances = clf_lgbm_model.feature_importances_\n",
    "sorted_idx = np.argsort(importances)[::-1]\n",
    "\n",
    "plt.figure(figsize=(20,20))\n",
    "# names of important features based on plot above\n",
    "important_features_idx = [idx for idx in sorted_idx if importances[idx] > 0.0]\n",
    "important_features = {idx:X_train.columns[idx] for idx in important_features_idx}\n",
    "\n",
    "# plot top 50 features\n",
    "plt.bar(range(len(important_features_idx)), importances[list(important_features.keys())], color='r', align='center')\n",
    "plt.xticks(range(len(important_features_idx)), list(important_features.values()), rotation='vertical')\n",
    "plt.xlabel('Feature Index')\n",
    "plt.ylabel('Feature Importance')\n",
    "plt.show()"
   ]
  },
  {
   "cell_type": "code",
   "execution_count": 21,
   "metadata": {},
   "outputs": [
    {
     "data": {
      "image/png": "[encoded data removed]",
      "text/plain": [
       "<Figure size 598.555x360 with 1 Axes>"
      ]
     },
     "metadata": {
      "needs_background": "light"
     },
     "output_type": "display_data"
    }
   ],
   "source": [
    "lgbm_fpr, lgbm_tpr, _ = roc_curve(y_test, y_pred_bins)\n",
    "lgbm_roc_auc = auc(lgbm_fpr, lgbm_tpr)\n",
    "\n",
    "plot_roc(lgbm_fpr, lgbm_tpr, lgbm_roc_auc)"
   ]
  },
  {
   "cell_type": "markdown",
   "metadata": {},
   "source": [
    "### predicting for 2019"
   ]
  },
  {
   "cell_type": "code",
   "execution_count": null,
   "metadata": {},
   "outputs": [],
   "source": []
  },
  {
   "cell_type": "code",
   "execution_count": null,
   "metadata": {},
   "outputs": [],
   "source": []
  },
  {
   "cell_type": "code",
   "execution_count": null,
   "metadata": {},
   "outputs": [],
   "source": []
  },
  {
   "cell_type": "code",
   "execution_count": 48,
   "metadata": {},
   "outputs": [
    {
     "data": {
      "text/plain": [
       "Index(['seasons.COUNT(games)', 'LTeams.MEDIAN(games.WScore)',\n",
       "       'seasons.MEAN(games.LFTA)', 'seasons.MEAN(games.LScore)',\n",
       "       'seasons.MEDIAN(games.WScore)', 'LTeams.COUNT(games)',\n",
       "       'DIFF(GameID by WTeamID)', 'DIFF(GameID by WTeamID)',\n",
       "       'MEAN(WTeam_events.WPoints)', 'seasons.MEDIAN(games.LScore)',\n",
       "       ...\n",
       "       'LTeams.MEAN(games.LFTA)', 'DIFF(WFGM3 by WTeamID)',\n",
       "       'DIFF(WFGM3 by WTeamID)', 'LTeams.STD(games.LFGA)',\n",
       "       'DIFF(WOR by Season)', 'DIFF(WOR by Season)',\n",
       "       'STD(WTeam_events.ElapsedSeconds)', 'LTeams.MEAN(games.WFGA)',\n",
       "       'seasons.MEAN(games.LDR)', 'LTeams.MEAN(games.WFTA)'],\n",
       "      dtype='object', length=136)"
      ]
     },
     "execution_count": 48,
     "metadata": {},
     "output_type": "execute_result"
    }
   ],
   "source": [
    "X_train.columns[X_train.columns.duplicated()]"
   ]
  },
  {
   "cell_type": "code",
   "execution_count": 21,
   "metadata": {
    "scrolled": true
   },
   "outputs": [
    {
     "ename": "KeyboardInterrupt",
     "evalue": "",
     "output_type": "error",
     "traceback": [
      "\u001b[0;31m---------------------------------------------------------------------------\u001b[0m",
      "\u001b[0;31mKeyboardInterrupt\u001b[0m                         Traceback (most recent call last)",
      "\u001b[0;32m<ipython-input-21-ce6582602f75>\u001b[0m in \u001b[0;36m<module>\u001b[0;34m\u001b[0m\n\u001b[1;32m      8\u001b[0m cv_xgb  = RandomizedSearchCV(xgb.XGBClassifier(objective='binary:logistic',random_state=42), param_distributions=params_xgb, \n\u001b[1;32m      9\u001b[0m                              random_state=42, cv=5, n_jobs=4)\n\u001b[0;32m---> 10\u001b[0;31m \u001b[0mcv_xgb\u001b[0m\u001b[0;34m.\u001b[0m\u001b[0mfit\u001b[0m\u001b[0;34m(\u001b[0m\u001b[0mX_train\u001b[0m\u001b[0;34m,\u001b[0m \u001b[0my_train\u001b[0m\u001b[0;34m)\u001b[0m\u001b[0;34m\u001b[0m\u001b[0;34m\u001b[0m\u001b[0m\n\u001b[0m\u001b[1;32m     11\u001b[0m \u001b[0mend\u001b[0m \u001b[0;34m=\u001b[0m \u001b[0mtime\u001b[0m\u001b[0;34m.\u001b[0m\u001b[0mtime\u001b[0m\u001b[0;34m(\u001b[0m\u001b[0;34m)\u001b[0m\u001b[0;34m\u001b[0m\u001b[0;34m\u001b[0m\u001b[0m\n\u001b[1;32m     12\u001b[0m \u001b[0mprint\u001b[0m\u001b[0;34m(\u001b[0m\u001b[0mend\u001b[0m \u001b[0;34m-\u001b[0m \u001b[0mstart\u001b[0m\u001b[0;34m)\u001b[0m\u001b[0;34m\u001b[0m\u001b[0;34m\u001b[0m\u001b[0m\n",
      "\u001b[0;32m~/miniconda3/lib/python3.7/site-packages/sklearn/model_selection/_search.py\u001b[0m in \u001b[0;36mfit\u001b[0;34m(self, X, y, groups, **fit_params)\u001b[0m\n\u001b[1;32m    720\u001b[0m                 \u001b[0;32mreturn\u001b[0m \u001b[0mresults_container\u001b[0m\u001b[0;34m[\u001b[0m\u001b[0;36m0\u001b[0m\u001b[0;34m]\u001b[0m\u001b[0;34m\u001b[0m\u001b[0;34m\u001b[0m\u001b[0m\n\u001b[1;32m    721\u001b[0m \u001b[0;34m\u001b[0m\u001b[0m\n\u001b[0;32m--> 722\u001b[0;31m             \u001b[0mself\u001b[0m\u001b[0;34m.\u001b[0m\u001b[0m_run_search\u001b[0m\u001b[0;34m(\u001b[0m\u001b[0mevaluate_candidates\u001b[0m\u001b[0;34m)\u001b[0m\u001b[0;34m\u001b[0m\u001b[0;34m\u001b[0m\u001b[0m\n\u001b[0m\u001b[1;32m    723\u001b[0m \u001b[0;34m\u001b[0m\u001b[0m\n\u001b[1;32m    724\u001b[0m         \u001b[0mresults\u001b[0m \u001b[0;34m=\u001b[0m \u001b[0mresults_container\u001b[0m\u001b[0;34m[\u001b[0m\u001b[0;36m0\u001b[0m\u001b[0;34m]\u001b[0m\u001b[0;34m\u001b[0m\u001b[0;34m\u001b[0m\u001b[0m\n",
      "\u001b[0;32m~/miniconda3/lib/python3.7/site-packages/sklearn/model_selection/_search.py\u001b[0m in \u001b[0;36m_run_search\u001b[0;34m(self, evaluate_candidates)\u001b[0m\n\u001b[1;32m   1513\u001b[0m         evaluate_candidates(ParameterSampler(\n\u001b[1;32m   1514\u001b[0m             \u001b[0mself\u001b[0m\u001b[0;34m.\u001b[0m\u001b[0mparam_distributions\u001b[0m\u001b[0;34m,\u001b[0m \u001b[0mself\u001b[0m\u001b[0;34m.\u001b[0m\u001b[0mn_iter\u001b[0m\u001b[0;34m,\u001b[0m\u001b[0;34m\u001b[0m\u001b[0;34m\u001b[0m\u001b[0m\n\u001b[0;32m-> 1515\u001b[0;31m             random_state=self.random_state))\n\u001b[0m",
      "\u001b[0;32m~/miniconda3/lib/python3.7/site-packages/sklearn/model_selection/_search.py\u001b[0m in \u001b[0;36mevaluate_candidates\u001b[0;34m(candidate_params)\u001b[0m\n\u001b[1;32m    709\u001b[0m                                \u001b[0;32mfor\u001b[0m \u001b[0mparameters\u001b[0m\u001b[0;34m,\u001b[0m \u001b[0;34m(\u001b[0m\u001b[0mtrain\u001b[0m\u001b[0;34m,\u001b[0m \u001b[0mtest\u001b[0m\u001b[0;34m)\u001b[0m\u001b[0;34m\u001b[0m\u001b[0;34m\u001b[0m\u001b[0m\n\u001b[1;32m    710\u001b[0m                                in product(candidate_params,\n\u001b[0;32m--> 711\u001b[0;31m                                           cv.split(X, y, groups)))\n\u001b[0m\u001b[1;32m    712\u001b[0m \u001b[0;34m\u001b[0m\u001b[0m\n\u001b[1;32m    713\u001b[0m                 \u001b[0mall_candidate_params\u001b[0m\u001b[0;34m.\u001b[0m\u001b[0mextend\u001b[0m\u001b[0;34m(\u001b[0m\u001b[0mcandidate_params\u001b[0m\u001b[0;34m)\u001b[0m\u001b[0;34m\u001b[0m\u001b[0;34m\u001b[0m\u001b[0m\n",
      "\u001b[0;32m~/miniconda3/lib/python3.7/site-packages/sklearn/externals/joblib/parallel.py\u001b[0m in \u001b[0;36m__call__\u001b[0;34m(self, iterable)\u001b[0m\n\u001b[1;32m    928\u001b[0m \u001b[0;34m\u001b[0m\u001b[0m\n\u001b[1;32m    929\u001b[0m             \u001b[0;32mwith\u001b[0m \u001b[0mself\u001b[0m\u001b[0;34m.\u001b[0m\u001b[0m_backend\u001b[0m\u001b[0;34m.\u001b[0m\u001b[0mretrieval_context\u001b[0m\u001b[0;34m(\u001b[0m\u001b[0;34m)\u001b[0m\u001b[0;34m:\u001b[0m\u001b[0;34m\u001b[0m\u001b[0;34m\u001b[0m\u001b[0m\n\u001b[0;32m--> 930\u001b[0;31m                 \u001b[0mself\u001b[0m\u001b[0;34m.\u001b[0m\u001b[0mretrieve\u001b[0m\u001b[0;34m(\u001b[0m\u001b[0;34m)\u001b[0m\u001b[0;34m\u001b[0m\u001b[0;34m\u001b[0m\u001b[0m\n\u001b[0m\u001b[1;32m    931\u001b[0m             \u001b[0;31m# Make sure that we get a last message telling us we are done\u001b[0m\u001b[0;34m\u001b[0m\u001b[0;34m\u001b[0m\u001b[0;34m\u001b[0m\u001b[0m\n\u001b[1;32m    932\u001b[0m             \u001b[0melapsed_time\u001b[0m \u001b[0;34m=\u001b[0m \u001b[0mtime\u001b[0m\u001b[0;34m.\u001b[0m\u001b[0mtime\u001b[0m\u001b[0;34m(\u001b[0m\u001b[0;34m)\u001b[0m \u001b[0;34m-\u001b[0m \u001b[0mself\u001b[0m\u001b[0;34m.\u001b[0m\u001b[0m_start_time\u001b[0m\u001b[0;34m\u001b[0m\u001b[0;34m\u001b[0m\u001b[0m\n",
      "\u001b[0;32m~/miniconda3/lib/python3.7/site-packages/sklearn/externals/joblib/parallel.py\u001b[0m in \u001b[0;36mretrieve\u001b[0;34m(self)\u001b[0m\n\u001b[1;32m    831\u001b[0m             \u001b[0;32mtry\u001b[0m\u001b[0;34m:\u001b[0m\u001b[0;34m\u001b[0m\u001b[0;34m\u001b[0m\u001b[0m\n\u001b[1;32m    832\u001b[0m                 \u001b[0;32mif\u001b[0m \u001b[0mgetattr\u001b[0m\u001b[0;34m(\u001b[0m\u001b[0mself\u001b[0m\u001b[0;34m.\u001b[0m\u001b[0m_backend\u001b[0m\u001b[0;34m,\u001b[0m \u001b[0;34m'supports_timeout'\u001b[0m\u001b[0;34m,\u001b[0m \u001b[0;32mFalse\u001b[0m\u001b[0;34m)\u001b[0m\u001b[0;34m:\u001b[0m\u001b[0;34m\u001b[0m\u001b[0;34m\u001b[0m\u001b[0m\n\u001b[0;32m--> 833\u001b[0;31m                     \u001b[0mself\u001b[0m\u001b[0;34m.\u001b[0m\u001b[0m_output\u001b[0m\u001b[0;34m.\u001b[0m\u001b[0mextend\u001b[0m\u001b[0;34m(\u001b[0m\u001b[0mjob\u001b[0m\u001b[0;34m.\u001b[0m\u001b[0mget\u001b[0m\u001b[0;34m(\u001b[0m\u001b[0mtimeout\u001b[0m\u001b[0;34m=\u001b[0m\u001b[0mself\u001b[0m\u001b[0;34m.\u001b[0m\u001b[0mtimeout\u001b[0m\u001b[0;34m)\u001b[0m\u001b[0;34m)\u001b[0m\u001b[0;34m\u001b[0m\u001b[0;34m\u001b[0m\u001b[0m\n\u001b[0m\u001b[1;32m    834\u001b[0m                 \u001b[0;32melse\u001b[0m\u001b[0;34m:\u001b[0m\u001b[0;34m\u001b[0m\u001b[0;34m\u001b[0m\u001b[0m\n\u001b[1;32m    835\u001b[0m                     \u001b[0mself\u001b[0m\u001b[0;34m.\u001b[0m\u001b[0m_output\u001b[0m\u001b[0;34m.\u001b[0m\u001b[0mextend\u001b[0m\u001b[0;34m(\u001b[0m\u001b[0mjob\u001b[0m\u001b[0;34m.\u001b[0m\u001b[0mget\u001b[0m\u001b[0;34m(\u001b[0m\u001b[0;34m)\u001b[0m\u001b[0;34m)\u001b[0m\u001b[0;34m\u001b[0m\u001b[0;34m\u001b[0m\u001b[0m\n",
      "\u001b[0;32m~/miniconda3/lib/python3.7/site-packages/sklearn/externals/joblib/_parallel_backends.py\u001b[0m in \u001b[0;36mwrap_future_result\u001b[0;34m(future, timeout)\u001b[0m\n\u001b[1;32m    519\u001b[0m         AsyncResults.get from multiprocessing.\"\"\"\n\u001b[1;32m    520\u001b[0m         \u001b[0;32mtry\u001b[0m\u001b[0;34m:\u001b[0m\u001b[0;34m\u001b[0m\u001b[0;34m\u001b[0m\u001b[0m\n\u001b[0;32m--> 521\u001b[0;31m             \u001b[0;32mreturn\u001b[0m \u001b[0mfuture\u001b[0m\u001b[0;34m.\u001b[0m\u001b[0mresult\u001b[0m\u001b[0;34m(\u001b[0m\u001b[0mtimeout\u001b[0m\u001b[0;34m=\u001b[0m\u001b[0mtimeout\u001b[0m\u001b[0;34m)\u001b[0m\u001b[0;34m\u001b[0m\u001b[0;34m\u001b[0m\u001b[0m\n\u001b[0m\u001b[1;32m    522\u001b[0m         \u001b[0;32mexcept\u001b[0m \u001b[0mLokyTimeoutError\u001b[0m\u001b[0;34m:\u001b[0m\u001b[0;34m\u001b[0m\u001b[0;34m\u001b[0m\u001b[0m\n\u001b[1;32m    523\u001b[0m             \u001b[0;32mraise\u001b[0m \u001b[0mTimeoutError\u001b[0m\u001b[0;34m(\u001b[0m\u001b[0;34m)\u001b[0m\u001b[0;34m\u001b[0m\u001b[0;34m\u001b[0m\u001b[0m\n",
      "\u001b[0;32m~/miniconda3/lib/python3.7/concurrent/futures/_base.py\u001b[0m in \u001b[0;36mresult\u001b[0;34m(self, timeout)\u001b[0m\n\u001b[1;32m    425\u001b[0m                 \u001b[0;32mreturn\u001b[0m \u001b[0mself\u001b[0m\u001b[0;34m.\u001b[0m\u001b[0m__get_result\u001b[0m\u001b[0;34m(\u001b[0m\u001b[0;34m)\u001b[0m\u001b[0;34m\u001b[0m\u001b[0;34m\u001b[0m\u001b[0m\n\u001b[1;32m    426\u001b[0m \u001b[0;34m\u001b[0m\u001b[0m\n\u001b[0;32m--> 427\u001b[0;31m             \u001b[0mself\u001b[0m\u001b[0;34m.\u001b[0m\u001b[0m_condition\u001b[0m\u001b[0;34m.\u001b[0m\u001b[0mwait\u001b[0m\u001b[0;34m(\u001b[0m\u001b[0mtimeout\u001b[0m\u001b[0;34m)\u001b[0m\u001b[0;34m\u001b[0m\u001b[0;34m\u001b[0m\u001b[0m\n\u001b[0m\u001b[1;32m    428\u001b[0m \u001b[0;34m\u001b[0m\u001b[0m\n\u001b[1;32m    429\u001b[0m             \u001b[0;32mif\u001b[0m \u001b[0mself\u001b[0m\u001b[0;34m.\u001b[0m\u001b[0m_state\u001b[0m \u001b[0;32min\u001b[0m \u001b[0;34m[\u001b[0m\u001b[0mCANCELLED\u001b[0m\u001b[0;34m,\u001b[0m \u001b[0mCANCELLED_AND_NOTIFIED\u001b[0m\u001b[0;34m]\u001b[0m\u001b[0;34m:\u001b[0m\u001b[0;34m\u001b[0m\u001b[0;34m\u001b[0m\u001b[0m\n",
      "\u001b[0;32m~/miniconda3/lib/python3.7/threading.py\u001b[0m in \u001b[0;36mwait\u001b[0;34m(self, timeout)\u001b[0m\n\u001b[1;32m    294\u001b[0m         \u001b[0;32mtry\u001b[0m\u001b[0;34m:\u001b[0m    \u001b[0;31m# restore state no matter what (e.g., KeyboardInterrupt)\u001b[0m\u001b[0;34m\u001b[0m\u001b[0;34m\u001b[0m\u001b[0m\n\u001b[1;32m    295\u001b[0m             \u001b[0;32mif\u001b[0m \u001b[0mtimeout\u001b[0m \u001b[0;32mis\u001b[0m \u001b[0;32mNone\u001b[0m\u001b[0;34m:\u001b[0m\u001b[0;34m\u001b[0m\u001b[0;34m\u001b[0m\u001b[0m\n\u001b[0;32m--> 296\u001b[0;31m                 \u001b[0mwaiter\u001b[0m\u001b[0;34m.\u001b[0m\u001b[0macquire\u001b[0m\u001b[0;34m(\u001b[0m\u001b[0;34m)\u001b[0m\u001b[0;34m\u001b[0m\u001b[0;34m\u001b[0m\u001b[0m\n\u001b[0m\u001b[1;32m    297\u001b[0m                 \u001b[0mgotit\u001b[0m \u001b[0;34m=\u001b[0m \u001b[0;32mTrue\u001b[0m\u001b[0;34m\u001b[0m\u001b[0;34m\u001b[0m\u001b[0m\n\u001b[1;32m    298\u001b[0m             \u001b[0;32melse\u001b[0m\u001b[0;34m:\u001b[0m\u001b[0;34m\u001b[0m\u001b[0;34m\u001b[0m\u001b[0m\n",
      "\u001b[0;31mKeyboardInterrupt\u001b[0m: "
     ]
    }
   ],
   "source": [
    "params_xgb = {'n_estimators' : [1,2,4,8,16,32,64,128,256],\n",
    "          'gamma' : np.linspace(0.01,1,10, endpoint=True),\n",
    "          'learning_rate' : np.linspace(.01, 1, 10, endpoint=True),\n",
    "          'reg_lambda' : np.linspace(.01, 10, 10, endpoint=True),\n",
    "          'max_depth' : np.linspace(1, 32, 10, endpoint=True, dtype=int)\n",
    "        }\n",
    "start = time.time()\n",
    "cv_xgb  = RandomizedSearchCV(xgb.XGBClassifier(objective='binary:logistic',random_state=42), param_distributions=params_xgb, \n",
    "                             random_state=42, cv=5, n_jobs=4)\n",
    "cv_xgb.fit(X_train, y_train)\n",
    "end = time.time()\n",
    "print(end - start)"
   ]
  },
  {
   "cell_type": "code",
   "execution_count": null,
   "metadata": {},
   "outputs": [],
   "source": [
    "dump(cv_xgb, data_folder+'xgb_ramdomcv.joblib')"
   ]
  },
  {
   "cell_type": "code",
   "execution_count": null,
   "metadata": {},
   "outputs": [],
   "source": [
    "cv_xgb = load(data_folder+'logr_ramdomcv.joblib')"
   ]
  },
  {
   "cell_type": "code",
   "execution_count": 18,
   "metadata": {},
   "outputs": [
    {
     "name": "stdout",
     "output_type": "stream",
     "text": [
      "49.711326122283936\n"
     ]
    }
   ],
   "source": [
    "clf_xgb_model = xgb.XGBClassifier(random_state=42,\n",
    "                                  objective='binary:logistic',\n",
    "                                  n_estimators=cv_xgb.best_params_['n_estimators'],\n",
    "                                  gamma=cv_xgb.best_params_['gamma'],\n",
    "                                  learning_rate=cv_xgb.best_params_['learning_rate'],\n",
    "                                  reg_lambda=cv_xgb.best_params_['reg_lambda'],\n",
    "                                  max_depth=cv_xgb.best_params_['max_depth'],\n",
    "                                  n_jobs=3)\n",
    "start = time.time()\n",
    "clf_xgb_model.fit(X_train, y_train)\n",
    "end = time.time()\n",
    "print(end - start)"
   ]
  },
  {
   "cell_type": "code",
   "execution_count": 21,
   "metadata": {},
   "outputs": [
    {
     "name": "stdout",
     "output_type": "stream",
     "text": [
      "Accuracy score for XGBoost  0.5634674922600619\n",
      "Recall score for XGBoost  0.5031446540880503\n",
      "Precision score for XGBoost  0.5633802816901409\n",
      "              precision    recall  f1-score   support\n",
      "\n",
      "        wins       0.56      0.62      0.59       164\n",
      "      losses       0.56      0.50      0.53       159\n",
      "\n",
      "   micro avg       0.56      0.56      0.56       323\n",
      "   macro avg       0.56      0.56      0.56       323\n",
      "weighted avg       0.56      0.56      0.56       323\n",
      "\n"
     ]
    }
   ],
   "source": [
    "y_pred_xgb = clf_xgb_model.predict(X_test)\n",
    "score_xgb = accuracy_score(y_test, y_pred_xgb)\n",
    "rscore_xgb = recall_score(y_test, y_pred_xgb)\n",
    "pscore_xgb = precision_score(y_test, y_pred_xgb)\n",
    "print('Accuracy score for XGBoost ', score_xgb)\n",
    "print('Recall score for XGBoost ', rscore_xgb)\n",
    "print('Precision score for XGBoost ', pscore_xgb)\n",
    "print(classification_report(y_test, y_pred_xgb, target_names=target_names))"
   ]
  },
  {
   "cell_type": "code",
   "execution_count": 24,
   "metadata": {},
   "outputs": [
    {
     "data": {
      "image/png": "[encoded data removed]",
      "text/plain": [
       "<Figure size 598.055x360 with 1 Axes>"
      ]
     },
     "metadata": {},
     "output_type": "display_data"
    }
   ],
   "source": [
    "xgb_fpr, xgb_tpr, _ = roc_curve(y_test, y_pred_xgb)\n",
    "xgb_roc_auc = auc(xgb_fpr, xgb_tpr)\n",
    "\n",
    "plot_roc(xgb_fpr, xgb_tpr, xgb_roc_auc)"
   ]
  }
 ],
 "metadata": {
  "kernelspec": {
   "display_name": "Python 3",
   "language": "python",
   "name": "python3"
  },
  "language_info": {
   "codemirror_mode": {
    "name": "ipython",
    "version": 3
   },
   "file_extension": ".py",
   "mimetype": "text/x-python",
   "name": "python",
   "nbconvert_exporter": "python",
   "pygments_lexer": "ipython3",
   "version": "3.7.2"
  }
 },
 "nbformat": 4,
 "nbformat_minor": 2
}
